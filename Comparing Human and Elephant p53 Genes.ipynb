{
 "cells": [
  {
   "cell_type": "markdown",
   "metadata": {},
   "source": [
    "# Analysis of the Human and Elephant P53 Genes\n",
    "\n",
    "## Jonathan Taylor"
   ]
  },
  {
   "cell_type": "markdown",
   "metadata": {},
   "source": [
    "In this project, I analyze DNA sequences for the gene p53, which is used to suppress cancer in organisms. Specifically, I compare the p53 genes in humans and elephants, to identify what they have in common and how they are different.\n",
    "\n",
    "To do this, I interpret DNA data files from the NIH, convert them to RNA, then convert that to a sequence of generated proteins. Next, I compare the protein sequences of the two different genes, automatically generate text reports of your findings, and graph the results, which are displayed at the bottom of this notebook."
   ]
  },
  {
   "cell_type": "markdown",
   "metadata": {},
   "source": [
    "The data that is used for this project is retrieved from the NIH Gene Database.\n",
    "\n",
    "* Human p53 Gene:\n",
    "    - https://www.ncbi.nlm.nih.gov/nuccore/NC_000017.11?report=fasta&from=7668402&to=7687550&strand=true\n",
    "    \n",
    "* Elephant p53 Gene:\n",
    "    - https://www.ncbi.nlm.nih.gov/nuccore/NW_003573467.1?report=fasta&from=11687413&to=11699835&strand=true\n",
    "    \n",
    "\n",
    "DNA is composed of four bases: cytosine (C), guanine (G), adenine (A), and thymine (T). These bases, when read together, produce instructions that the organism can follow in order to create useful proteins. The connected sequence of bases is represented in a text file with a single letter per base."
   ]
  },
  {
   "cell_type": "markdown",
   "metadata": {},
   "source": [
    "# Part 1: Generating Proteins"
   ]
  },
  {
   "cell_type": "markdown",
   "metadata": {},
   "source": [
    "## 0. Data Retrieval using readFile(filename) function"
   ]
  },
  {
   "cell_type": "code",
   "execution_count": 63,
   "metadata": {},
   "outputs": [],
   "source": [
    "import warnings\n",
    "warnings.filterwarnings(\"ignore\")\n",
    "from prettytable import PrettyTable\n",
    "project = \"ProteinSeq\" \n",
    "\n",
    "def readFile(filename):\n",
    "    d = open(filename, 'r')\n",
    "    text = d.read()\n",
    "    text = text.replace('\\n', '')\n",
    "    return text"
   ]
  },
  {
   "cell_type": "markdown",
   "metadata": {},
   "source": [
    "## 1. Transcribing DNA into RNA"
   ]
  },
  {
   "cell_type": "markdown",
   "metadata": {},
   "source": [
    "Now that I have the data, the first thing I need to do is convert the DNA sequences into RNA sequences. I wrote the dnaToRna() function below to replicate the process of transcription. This process is not done by reading all of the DNA string. Instead, the organism breaks down the DNA into codons, or groups of three bases. The ATG codon signals the start of an RNA strand and three other codons (TAA, TAG, and TGA) signal the end (Stop). \n",
    "\n",
    "For this project, it is assumed that the starting location (startIndex) is known. So this function reads codons from that start point until the end point is found, and return a list of all the codons in between. In RNA, the T base is replaced with U."
   ]
  },
  {
   "cell_type": "code",
   "execution_count": 64,
   "metadata": {},
   "outputs": [],
   "source": [
    "def dnaToRna(dna, startIndex):\n",
    "    \"\"\"\n",
    "    dnaToRna - converts DNA sequence into RNA sequence\n",
    "    \n",
    "    Arguments:\n",
    "        dna: string of DNA sequence that was loaded in Step 0 above\n",
    "        \n",
    "        startIndex: start codon of DNA sequence\n",
    "        \n",
    "    Returns:\n",
    "        rna: string of RNA sequence\n",
    "    \"\"\"\n",
    "    rna = []\n",
    "    aug = False\n",
    "    while startIndex + 2 < len(dna):\n",
    "        dna = dna.replace(\"T\", \"U\")\n",
    "        codon = dna[startIndex:startIndex+3]\n",
    "        if codon == \"AUG\" or aug == True:\n",
    "            aug = True\n",
    "            if codon == \"UAG\" or codon == \"UAA\" or codon == \"UGA\":\n",
    "                rna.append(codon)\n",
    "                return rna\n",
    "            else:\n",
    "                rna.append(codon)\n",
    "                dna = dna[3:]\n",
    "        else:\n",
    "            startIndex += 1\n",
    "    return rna"
   ]
  },
  {
   "cell_type": "markdown",
   "metadata": {},
   "source": [
    "## 2. Building a Codon Dictionary"
   ]
  },
  {
   "cell_type": "markdown",
   "metadata": {},
   "source": [
    "To turn RNA into proteins, I need to know which amino acid each codon corresponds to. This data is not formatted exactly as I need it to be; it maps amino acids to lists of codons, but I need to map each codon to a amino acid. This function returns a dictionary that maps each codon to its amino acid."
   ]
  },
  {
   "cell_type": "code",
   "execution_count": 65,
   "metadata": {},
   "outputs": [],
   "source": [
    "def makeCodonDictionary():\n",
    "    \"\"\"\n",
    "    makeCodonDictionary - takes the \"codon_table.json\" file\n",
    "    (which maps amino acids to a list of codons) and maps \n",
    "    each codon to its amino acid\n",
    "    \n",
    "    Returns:\n",
    "        codonD: dictionary in which each codon is paired \n",
    "        with an amino acid\n",
    "    \"\"\"\n",
    "    codonD = {}\n",
    "    import json\n",
    "    c = open(\"codon_table.json\", \"r\")\n",
    "    aminoD = json.load(c)\n",
    "    for key in aminoD:\n",
    "        value = aminoD[key]\n",
    "        for codon in value:\n",
    "            codon = codon.replace(\"T\", \"U\")\n",
    "            codonD[codon] = key\n",
    "    return codonD"
   ]
  },
  {
   "cell_type": "markdown",
   "metadata": {},
   "source": [
    "## 3. Generating a List of Amino Acid Strings (Proteins)"
   ]
  },
  {
   "cell_type": "markdown",
   "metadata": {},
   "source": [
    "To turn RNA into proteins, I need to identify each codon in the RNA sequence and add its associated amino acid to the chain. This chain of amino acids will become the protein. This function takes in the rna sequence generated from the rnaToDna() function and the codon dictionary generated from the makeCodonDictionary() function and returns a protein (a list of amino acid strings). To do this, I loop through each codon in the RNA list, and add its associated amino acid (based on the dictionary) to a new list. A special case is made for the first codon so that is says 'Start' instead of the amino acid name. \n",
    "\n",
    "\n",
    "Note: the proteins being generated here are not 100% accurate because this code skips over RNA splicing and other complex bioloical processes involved in gene expression."
   ]
  },
  {
   "cell_type": "code",
   "execution_count": 66,
   "metadata": {},
   "outputs": [],
   "source": [
    "def generateProtein(codons, codonD):\n",
    "    \"\"\"\n",
    "    generateProtein - turns RNA sequence into \n",
    "    protein sequence\n",
    "    \n",
    "    Arguments:\n",
    "        codons: RNA sequence generated by dnaToRna \n",
    "        \n",
    "        codonD: dictionary generated by makeCodonDictionary\n",
    "        \n",
    "    Returns:\n",
    "        protein: list of amino acid strings\n",
    "    \"\"\"\n",
    "    protein = []\n",
    "    for i in range(len(codons)):\n",
    "        codon = codons[i]\n",
    "        if codon == \"AUG\":\n",
    "            if i == 0:\n",
    "                protein.append(\"Start\")\n",
    "            else:\n",
    "                protein.append(codonD[codon])\n",
    "        else:\n",
    "            a_acid = codonD[codon]\n",
    "            protein.append(a_acid)\n",
    "    return protein"
   ]
  },
  {
   "cell_type": "markdown",
   "metadata": {},
   "source": [
    "## 4. Synthesizing Proteins"
   ]
  },
  {
   "cell_type": "markdown",
   "metadata": {},
   "source": [
    "This function calls upon all of the previously defined functions. \n",
    "\n",
    "* This function reads in the DNA by calling the readFile(filename) function and prints out the total number of bases in that DNA.\n",
    "\n",
    "* It produces a codon dictinary by calling the makeCodonDictionary() function.\n",
    "\n",
    "* It then identifies all of the RNA strands that can be produced from the DNA by iterating through all the indexes in the DNA string, looking for the start code (ATG) at each point.\n",
    "\n",
    "* If an index that corresponds to 'ATG' is identified, the dnaToRna(dna, startIndex) function is called from that index to extract the entire RNA sequence, then generateProtein(codon, codonD) is called to produce a protein.\n",
    "\n",
    "* The generated protein list is then added to another list of of proteins and the index in the DNA strand is updated to skip bases that were already checked.\n",
    "\n",
    "* If an index does not correspond to 'ATG', then index += 1 and this is an unused base.\n",
    "\n",
    "This function provides a list of all the proteins synthesized from the DNA and a count of all the bases that were not used."
   ]
  },
  {
   "cell_type": "code",
   "execution_count": 67,
   "metadata": {},
   "outputs": [],
   "source": [
    "def synthesizeProteins(filename):\n",
    "    \"\"\"\n",
    "    synthesizeProteins - ties all previous functions together\n",
    "    and creates a list of proteins from the original DNA sequence\n",
    "    \n",
    "    Argument:\n",
    "        filename: filename containing DNA sequences\n",
    "        \n",
    "    Returns:\n",
    "        protein_lst: list of all proteins synthesized from DNA\n",
    "    \"\"\"\n",
    "    dna = readFile(filename)\n",
    "    print(filename, \":\")\n",
    "    print(\"Length of DNA:\",len(dna))\n",
    "    codonDict = makeCodonDictionary()\n",
    "    protein_lst = []\n",
    "    unused_bases = 0\n",
    "    i = 0\n",
    "    while i < len(dna):\n",
    "        triplet = dna[i:i+3]\n",
    "        if triplet == \"ATG\":\n",
    "            rna_seq = dnaToRna(dna, i)\n",
    "            protein = generateProtein(rna_seq, codonDict)\n",
    "            protein_lst.append(protein)\n",
    "            i += 3 * len(rna_seq)\n",
    "        else:\n",
    "            i += 1\n",
    "            unused_bases += 1\n",
    "    print(\"number of proteins:\", len(protein_lst))\n",
    "    print(\"unused bases:\",unused_bases)\n",
    "    return protein_lst"
   ]
  },
  {
   "cell_type": "markdown",
   "metadata": {},
   "source": [
    "# Part 2: Protein Sequence Analysis"
   ]
  },
  {
   "cell_type": "markdown",
   "metadata": {},
   "source": [
    "## 5. Finding Common Proteins Between Two Protein Lists"
   ]
  },
  {
   "cell_type": "markdown",
   "metadata": {},
   "source": [
    "This function begins the second part of this project, which is analyzing the protein sequences generated in the previous part. To determine how similar/different the genes are, I start by identifying any proteins that occur in both genes. The commonProteins function takes two protein lists generated from the synthesizeProteins function and returns a list of all the unique proteins in both lists."
   ]
  },
  {
   "cell_type": "code",
   "execution_count": 68,
   "metadata": {},
   "outputs": [],
   "source": [
    "def commonProteins(proteinList1, proteinList2):\n",
    "    \"\"\"\n",
    "    commonProteins - shows proteins that occur in both genes\n",
    "    \n",
    "    Arguments:\n",
    "        proteinList1 and 2: two lists of proteins generated\n",
    "        by synthesizeProteins function\n",
    "        \n",
    "    Returns:\n",
    "        common_proteins: list of proteins that occur in \n",
    "        both genes\n",
    "    \"\"\"\n",
    "    common_proteins = []\n",
    "    for i in range(len(proteinList1)):\n",
    "        protein = proteinList1[i]\n",
    "        if protein in proteinList2 and protein not in common_proteins:\n",
    "            common_proteins.append(protein)\n",
    "    return common_proteins"
   ]
  },
  {
   "cell_type": "markdown",
   "metadata": {},
   "source": [
    "## 6. Determining Amino Acid Frequencies"
   ]
  },
  {
   "cell_type": "markdown",
   "metadata": {},
   "source": [
    "It turns out that there are not very many proteins in common between the two genes, so a more interesting challenge is to compare the amino acids generated by the proteins to see if any amino acids occur more often in one gene over the other. \n",
    "\n",
    "To do this, first, I need to \"flatten\" the list of proteins into a list of the amino acids that occur. The combineProteins function takes a protein list and returns a list of all the amino acids that occur across all the proteins, in order.\n",
    "\n",
    "Once I have the list of amino acids, I use it to generate a dictionary that maps each amino acid in the list to a count of how often it occurs. This will help me answer the question: how common is each amino acid in the gene?\"."
   ]
  },
  {
   "cell_type": "code",
   "execution_count": 69,
   "metadata": {},
   "outputs": [],
   "source": [
    "def combineProteins(proteinList):\n",
    "    \"\"\"\n",
    "    combineProteins - generates list of all the amino acids that \n",
    "    occur across all proteins, in order\n",
    "    \n",
    "    Argument:\n",
    "        proteinList: list of proteins generated by synthesizeProteins\n",
    "        \n",
    "    Returns:\n",
    "        combined_proteins: list of amino acids occuring in all proteins\n",
    "    \"\"\"\n",
    "    combined_proteins = []\n",
    "    for i in range(len(proteinList)):\n",
    "        for aa in range(len(proteinList[i])):\n",
    "            combined_proteins.append(proteinList[i][aa])\n",
    "    return combined_proteins\n",
    "\n",
    "\n",
    "def aminoAcidDictionary(aaList):\n",
    "    \"\"\"\n",
    "    aminoAcidDictionary - counts of each amino acid\n",
    "    \n",
    "    Argument:\n",
    "        aaList: list of amino acids generated by combineProteins\n",
    "        \n",
    "    Returns:\n",
    "        aa_dict: dictionary that maps each amino acid to a count of\n",
    "        how often it occurs\n",
    "    \"\"\"\n",
    "    aa_dict = {}\n",
    "    for i in range(len(aaList)):\n",
    "        key = aaList[i]\n",
    "        if key not in aa_dict:\n",
    "            aa_dict[key] = aaList.count(key)\n",
    "    return aa_dict"
   ]
  },
  {
   "cell_type": "markdown",
   "metadata": {},
   "source": [
    "## 7. Sorting Amino Acid Frequencies"
   ]
  },
  {
   "cell_type": "markdown",
   "metadata": {},
   "source": [
    "To compare amino acid frequencies between genes of different lengths, I need my list of amino acids to be ordered by frequency: the rarest amino acids are at the front and the most common are at the back. If an amino acid occurs at significantly different places between two frequency lists, there is a major difference between the two organisms. The sortAminoAcidsByFreq function takes an amino acid list and returns a sorted frequency list."
   ]
  },
  {
   "cell_type": "code",
   "execution_count": 70,
   "metadata": {},
   "outputs": [],
   "source": [
    "def sortAminoAcidsByFreq(aaList):\n",
    "    \"\"\"\n",
    "    sortAminoAcidsByFreq - sorts list of amino acids by \n",
    "    frequency\n",
    "    \n",
    "    Argument:\n",
    "        aaList: amino acid list generated by combineProteins\n",
    "        \n",
    "    Returns:\n",
    "        freq_list: list of amino acids sorted from most frequent\n",
    "        to least frequent\n",
    "    \"\"\"\n",
    "    freq_list = []\n",
    "    aa_dict = aminoAcidDictionary(aaList)\n",
    "    for keys in aa_dict.keys():\n",
    "        frequency = []\n",
    "        occurance = aa_dict[keys]\n",
    "        prob = occurance / len(aaList)\n",
    "        frequency.append(prob)\n",
    "        if keys != \"Start\" and keys != \"Stop\":\n",
    "            frequency.append(keys)\n",
    "            freq_list.append(frequency)\n",
    "    freq_list.sort()\n",
    "    return freq_list"
   ]
  },
  {
   "cell_type": "markdown",
   "metadata": {},
   "source": [
    "## 8. Finding Differences Between Amino Acids"
   ]
  },
  {
   "cell_type": "markdown",
   "metadata": {},
   "source": [
    "The findAminoAcidDifferences function takes two protein lists, one for each gene, identifies amino acids that occur at different indexes between the two lists and returns a list of those two amino acids and their frequencies. An amino acid has sufficiently different frequencies if it occurs at different indexes in the two frequency lists, and the difference between those two frequencies is greater than 0.5%."
   ]
  },
  {
   "cell_type": "code",
   "execution_count": 71,
   "metadata": {},
   "outputs": [],
   "source": [
    "def findAminoAcidDifferences(proteinList1, proteinList2):\n",
    "    \"\"\"\n",
    "    findAminoAcidDifferences - finds differences\n",
    "    between genes\n",
    "    \n",
    "    Arguments:\n",
    "        proteinList1 and 2: two protein lists\n",
    "        (one for each gene) generated by \n",
    "        synthesizeProteins\n",
    "        \n",
    "    Returns:\n",
    "        comb_freq_list: list of amino acids that\n",
    "        occur at different indexes between the two \n",
    "        protein lists and their frequencies\n",
    "    \"\"\"\n",
    "    comb_freq_list = []\n",
    "    comb_prot1 = combineProteins(proteinList1)\n",
    "    comb_prot2 = combineProteins(proteinList2)\n",
    "    freq_list1 = sortAminoAcidsByFreq(comb_prot1)\n",
    "    freq_list2 = sortAminoAcidsByFreq(comb_prot2)\n",
    "    for i in range(len(freq_list1)):\n",
    "        for j in range(len(freq_list2)):\n",
    "            aa_list = []\n",
    "            aa1 = freq_list1[i][1]\n",
    "            aa2 = freq_list2[j][1]\n",
    "            if aa1 == aa2:\n",
    "                frequency1 = freq_list1[i][0]\n",
    "                frequency2 = freq_list2[j][0]\n",
    "                difference = abs(frequency1 - frequency2)\n",
    "                threshold = 0.005\n",
    "                aa_list.append(aa1)\n",
    "                aa_list.append(frequency1)\n",
    "                aa_list.append(frequency2)\n",
    "                if i != j and difference >= threshold:\n",
    "                    comb_freq_list.append(aa_list)\n",
    "    return comb_freq_list"
   ]
  },
  {
   "cell_type": "markdown",
   "metadata": {},
   "source": [
    "## 9. Generating a Text Report of Amino Acid Differences"
   ]
  },
  {
   "cell_type": "markdown",
   "metadata": {},
   "source": [
    "The displayTextResults function takes two lists: one list is the list of common proteins and the second list is the list of the most different amino acids between the two genes and prints out the results."
   ]
  },
  {
   "cell_type": "code",
   "execution_count": 72,
   "metadata": {},
   "outputs": [],
   "source": [
    "def displayTextResults(commonalities, differences):\n",
    "    \"\"\"\n",
    "    displayTextResults - generates and displays \n",
    "    text report of similarities and differences between genes\n",
    "    \n",
    "    Arguments:\n",
    "        commonalities: list of common proteins between genes\n",
    "        \n",
    "        differences: list of the most different amino acids between genes\n",
    "    \"\"\"\n",
    "    print(\"The following proteins occurred in both DNA sequences:\")\n",
    "    for i in range(len(commonalities)):\n",
    "        if len(commonalities[i]) > 2:\n",
    "            for j in range(1, len(commonalities[i])-1):\n",
    "                print(commonalities[i][j], end=\" \")\n",
    "        print(\"\")\n",
    "\n",
    "    print(\"The following amino acids occurred at very different rates in the two DNA sequences (> 0.5% threshold):\")\n",
    "    for x in range(len(differences)):\n",
    "        for y in range(len(differences[x])):\n",
    "            aa = differences[x][0]\n",
    "            freq1 = (differences[x][1] * 100) \n",
    "            freq2 = (differences[x][2] * 100)\n",
    "        print(aa + \": \" + str(freq1) + \" % in Seq1, \" + str(freq2) + \" % in Seq2.\")"
   ]
  },
  {
   "cell_type": "markdown",
   "metadata": {},
   "source": [
    "# Part 3: Visualizing Results"
   ]
  },
  {
   "cell_type": "markdown",
   "metadata": {},
   "source": [
    "## 10: Generating Chart Labels"
   ]
  },
  {
   "cell_type": "markdown",
   "metadata": {},
   "source": [
    "In order to plot our data using matplotlib, we first need to reformat it to fit the input that matplotlib expects. The makeAminoAcidLabels function takes a list of genes (where each gene is a protein list) and finds all the amino acids that occur across all the genes. This allows for comparison of more than two genes at a time and accounts for amino acids that may occur in one gene and not the other. It returns a sorted list of all the amino acids found."
   ]
  },
  {
   "cell_type": "code",
   "execution_count": 73,
   "metadata": {},
   "outputs": [],
   "source": [
    "def makeAminoAcidLabels(geneList): \n",
    "    \"\"\"\n",
    "    makeAminoAcidLabels - reformats data for plotting\n",
    "    \n",
    "    Argument:\n",
    "        geneList: list of genes\n",
    "        \n",
    "    Returns:\n",
    "        xLabels: sorted list of all the amino acids found\n",
    "    \"\"\"\n",
    "    total_aa = []\n",
    "    sorted_aa_lst = [] \n",
    "    comb_prot = []\n",
    "    for i in range(len(geneList)):\n",
    "        comb_prot.append(combineProteins(geneList[i]))\n",
    "    for j in range(len(comb_prot)):\n",
    "        for k in range(len(comb_prot[j])):\n",
    "            total_aa.append(comb_prot[j][k])\n",
    "    comb_aa_dict = aminoAcidDictionary(total_aa)\n",
    "    xLabels = list(comb_aa_dict.keys())\n",
    "    xLabels.sort() #sorted aa_list\n",
    "    return xLabels"
   ]
  },
  {
   "cell_type": "markdown",
   "metadata": {},
   "source": [
    "## 11: Setting Up Chart Data"
   ]
  },
  {
   "cell_type": "markdown",
   "metadata": {},
   "source": [
    "The setupChartData function takes a labels list (produced by the makeAminoAcidLabels function) and a list of genes and returns a list of frequency lists such that each list's index i contains the frequency for the i'th element of the labels list. \n",
    "As an example, if Alanine (Ala) is in the 0th index of the labels list for the two p53 genes and I name my resulting list 'result', then result[0][0] is the frequency of Ala in the human gene and results[1][0] is the frequency of Ala in the elephant gene."
   ]
  },
  {
   "cell_type": "code",
   "execution_count": 74,
   "metadata": {},
   "outputs": [],
   "source": [
    "def setupChartData(labels, geneList): \n",
    "    \"\"\"\n",
    "    seupChartData - generates a list of lists\n",
    "    for plotting with matplotlib\n",
    "    \n",
    "    Arguments:\n",
    "        labels: labels list generated by\n",
    "        makeAminoAcidLabels\n",
    "        \n",
    "        geneList: list of genes\n",
    "        \n",
    "    Returns:\n",
    "        freqList: list of frequency lists\n",
    "    \"\"\"\n",
    "    freqList = []\n",
    "    for i in range(len(geneList)):\n",
    "        c = combineProteins(geneList[i])\n",
    "        dict_aa = aminoAcidDictionary(c)\n",
    "        freq_lst = []\n",
    "        for j in range(len(labels)):\n",
    "            if labels[j] in dict_aa:\n",
    "                occurance = dict_aa[labels[j]]\n",
    "                prob = occurance / len(c)\n",
    "                freq_lst.append(prob)\n",
    "            else:\n",
    "                freq_lst.append(0)\n",
    "        freqList.append(freq_lst)\n",
    "    return freqList"
   ]
  },
  {
   "cell_type": "markdown",
   "metadata": {},
   "source": [
    "## 12: Creating the Bar Chart and Edge Labels"
   ]
  },
  {
   "cell_type": "markdown",
   "metadata": {},
   "source": [
    "The functions below generate a bar chart that illustrates the results of this analysis. The makeEdgeList function adds black edges around the amino acids that have significantly different frequencies between the two genes."
   ]
  },
  {
   "cell_type": "code",
   "execution_count": 75,
   "metadata": {},
   "outputs": [],
   "source": [
    "def createChart(xLabels, freqList, freqLabels, edgeList=None):\n",
    "    \"\"\"\n",
    "    createChart - generates bar chart of results\n",
    "    \n",
    "    Arguments:\n",
    "    xLabels: labels list generated by makeAminAcidLabels\n",
    "    \n",
    "    freqList: list of frequency lists generated by setupChartData\n",
    "    \n",
    "    freqLabels: list of strings, where each string is the name of \n",
    "    the gene represented by the corresponding list in freqLists\n",
    "    \n",
    "    edgeList\n",
    "    \"\"\"\n",
    "    import matplotlib.pyplot as plt\n",
    "    import numpy\n",
    "    \n",
    "    x = numpy.arange(len(xLabels))\n",
    "    width = 0.6 / len(freqList)\n",
    "    fig, ax = plt.subplots()\n",
    "    for i in range(len(freqList)):\n",
    "        offset = -0.3 + width/2\n",
    "        ax.bar(x + offset + i*width, freqList[i], width, edgecolor=edgeList)\n",
    "    \n",
    "    ax.set_ylabel(\"Frequencies\")\n",
    "    ax.set_title(\"Protein Sequencing\")\n",
    "    ax.set_xticks(x)\n",
    "    ax.set_xticklabels(xLabels, Fontsize=7)\n",
    "    ax.legend([\"Human p53\", \"Elephant p53\"])\n",
    "    \n",
    "    fig.tight_layout()\n",
    "    plt.show()\n",
    "\n",
    "def makeEdgeList(labels, biggestDiffs):\n",
    "    \"\"\"\n",
    "    makeEdgeList - adds black edges around the amino acids with \n",
    "    significantly different frequencies between the two genes\n",
    "    \n",
    "    Arguments:\n",
    "        labels: labels list generated by makeAminoAcidLabels\n",
    "        \n",
    "        biggestDiffs: list of most different amino acids\n",
    "        generated by findAminoAcidDifferences\n",
    "        \n",
    "    Returns:\n",
    "        edge_lst: list, the same length as the labels list, where each \n",
    "        element of the list is \"black\" if the corresponding amino acid \n",
    "        is in the biggestDiffs list, and \"white\" otherwise.\n",
    "    \"\"\"\n",
    "    lst = []\n",
    "    edge_lst = []\n",
    "    for j in range(len(biggestDiffs)):\n",
    "        lst.append(biggestDiffs[j][0])\n",
    "    for i in range(len(labels)):\n",
    "        if labels[i] in lst:\n",
    "            edge_lst.append(\"black\")\n",
    "        else:\n",
    "            edge_lst.append(\"white\")\n",
    "    return edge_lst"
   ]
  },
  {
   "cell_type": "markdown",
   "metadata": {},
   "source": [
    "## 13: Putting Everything Together"
   ]
  },
  {
   "cell_type": "markdown",
   "metadata": {},
   "source": [
    "The runFullProgram function brings all the functions defined and discussed above together for the final result. It loads the DNA data in the two p53 files, processes them both into protein lists, generates a text report comparing the two genes, and then generates a bar chart comparing the two genes with the sufficiently different amino acids outlined in black."
   ]
  },
  {
   "cell_type": "code",
   "execution_count": 76,
   "metadata": {},
   "outputs": [
    {
     "name": "stdout",
     "output_type": "stream",
     "text": [
      "human_p53.txt :\n",
      "Length of DNA: 19149\n",
      "number of proteins: 119\n",
      "unused bases: 10560\n",
      "elephant_p53.txt :\n",
      "Length of DNA: 12423\n",
      "number of proteins: 77\n",
      "unused bases: 6204\n",
      "The following proteins occurred in both DNA sequences:\n",
      "Ser Pro Leu \n",
      "Lys \n",
      "Ala \n",
      "Thr \n",
      "Gly \n",
      "The following amino acids occurred at very different rates in the two DNA sequences (> 0.5% threshold):\n",
      "Tyr: 2.060775410408662 % in Seq1, 2.6049204052098407 % in Seq2.\n",
      "Met: 2.1306322039818375 % in Seq1, 3.087313072841293 % in Seq2.\n",
      "Ile: 3.0736989172196996 % in Seq1, 2.460202604920405 % in Seq2.\n",
      "Phe: 3.9818372336709746 % in Seq1, 5.258080077182827 % in Seq2.\n",
      "Thr: 4.016765630457562 % in Seq1, 4.82392667631452 % in Seq2.\n",
      "Lys: 4.959832343695425 % in Seq1, 4.196816208393632 % in Seq2.\n",
      "Arg: 6.007684247293049 % in Seq1, 4.630969609261939 % in Seq2.\n"
     ]
    },
    {
     "data": {
      "image/png": "[encoded data removed]",
      "text/plain": [
       "<Figure size 432x288 with 1 Axes>"
      ]
     },
     "metadata": {
      "needs_background": "light"
     },
     "output_type": "display_data"
    }
   ],
   "source": [
    "def runFullProgram():\n",
    "    \"\"\"\n",
    "    Pulls all functions defined in this program together to process, \n",
    "    analyze and display similarities and differences between the \n",
    "    human and elephant p53 genes\n",
    "    \"\"\"\n",
    "    humanProteins = synthesizeProteins(\"human_p53.txt\")\n",
    "    elephantProteins = synthesizeProteins(\"elephant_p53.txt\")\n",
    "    commonalities = commonProteins(humanProteins, elephantProteins)\n",
    "    differences = findAminoAcidDifferences(humanProteins, elephantProteins)\n",
    "    displayTextResults(commonalities, differences)\n",
    "    Labels = makeAminoAcidLabels([humanProteins, elephantProteins])\n",
    "    freqList = setupChartData(Labels, [humanProteins, elephantProteins])\n",
    "    freqLabels = [\"human\", \"elephant\"]\n",
    "    edge_List = makeEdgeList(Labels, differences)\n",
    "    Chart = createChart(Labels, freqList, freqLabels, edge_List)\n",
    "    return    \n",
    "\n",
    "runFullProgram()"
   ]
  }
 ],
 "metadata": {
  "kernelspec": {
   "display_name": "Python 3 (ipykernel)",
   "language": "python",
   "name": "python3"
  },
  "language_info": {
   "codemirror_mode": {
    "name": "ipython",
    "version": 3
   },
   "file_extension": ".py",
   "mimetype": "text/x-python",
   "name": "python",
   "nbconvert_exporter": "python",
   "pygments_lexer": "ipython3",
   "version": "3.8.8"
  }
 },
 "nbformat": 4,
 "nbformat_minor": 4
}
