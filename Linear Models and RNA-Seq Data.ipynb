{
 "cells": [
  {
   "cell_type": "markdown",
   "id": "3189a8bd-8832-4717-b31f-cd815e5a7363",
   "metadata": {},
   "source": [
    "# ML Mini Project: Analysis of Transcriptomics Data"
   ]
  },
  {
   "cell_type": "markdown",
   "id": "ddbb6aac-c1c3-425f-a0e3-667420ad2034",
   "metadata": {},
   "source": [
    "In this project, my task is to predict the disease type from a data set containing the expression levels of 17,970 genes. The disease of interest here is Uterine Corpus Endometrial Carcinoma (UCEC), which is the result of uncontrollable growth of cells that line the uterus<sup>1</sup>. The output labels are binary (1, 0) where 1 encodes the tumor grade II- and 0 encodes the tumor grade III+. I develop a pipeline to test multiple machine learning models such as linear regression, logistic regression, ridge and LASSO regression and select the best model."
   ]
  },
  {
   "cell_type": "code",
   "execution_count": 1,
   "id": "5d395ab0-10c1-4dac-898a-9ca5fefaa969",
   "metadata": {},
   "outputs": [],
   "source": [
    "%config Completer.use_jedi = False\n",
    "import pandas as pd\n",
    "import warnings\n",
    "warnings.filterwarnings(\"ignore\")"
   ]
  },
  {
   "cell_type": "markdown",
   "id": "0de17e53-42ae-40c8-b52d-d8896c5349e5",
   "metadata": {},
   "source": [
    "## Loading in the Data and EDA"
   ]
  },
  {
   "cell_type": "markdown",
   "id": "6f323713-e04d-4d91-8727-aeaddf2d7171",
   "metadata": {},
   "source": [
    "There are two datasets, CLR and TPM, which only differ in how they are normalized.\n",
    "\n",
    "* TPM:\n",
    "    - The gene counts are transformed to transcripts per million, which accounts for gene length and normalizes the reads.\n",
    "\n",
    "* CLR:\n",
    "    - The CLR normalized data is the result of a centered log transform on the TPM data.\n",
    "    \n",
    "These are two ways of normalizing the dataset. TPM is generally the baseline quantification method for RNA-seq data analysis. CLR has a two additional advantages. First, it normalizes the data such that samples with the same relative abundance are treated as equal. Second, it transforms multiplicative relationships between samples into linear relationships, which allows more accurate modeling of the error<sup>2</sup>. In this project, the effects of each of these normalization methods on model performance will also be compared. "
   ]
  },
  {
   "cell_type": "code",
   "execution_count": 5,
   "id": "a659f07c-ad92-455f-a84b-e0951b002e22",
   "metadata": {},
   "outputs": [],
   "source": [
    "X_clr = pd.read_csv(\"UCEC_clr_X.csv\", index_col=0)\n",
    "y_clr = pd.read_csv(\"UCEC_clr_y.csv\", index_col=0)\n",
    "\n",
    "X_tpm = pd.read_csv(\"UCEC_tpm_X.csv\", index_col=0)\n",
    "y_tpm = pd.read_csv(\"UCEC_tpm_y.csv\", index_col=0)"
   ]
  },
  {
   "cell_type": "code",
   "execution_count": 6,
   "id": "7d473f8b-eff7-4404-84a3-f3126053191a",
   "metadata": {},
   "outputs": [
    {
     "name": "stdout",
     "output_type": "stream",
     "text": [
      "ENSG00000283697    0\n",
      "ENSG00000130544    0\n",
      "ENSG00000130520    0\n",
      "ENSG00000130522    0\n",
      "ENSG00000130528    0\n",
      "                  ..\n",
      "ENSG00000170458    0\n",
      "ENSG00000170456    0\n",
      "ENSG00000170454    0\n",
      "ENSG00000170448    0\n",
      "ENSG00000000003    0\n",
      "Length: 17970, dtype: int64\n",
      "xml_neoplasm_histologic_grade    0\n",
      "dtype: int64\n",
      "ENSG00000283697    0\n",
      "ENSG00000130544    0\n",
      "ENSG00000130520    0\n",
      "ENSG00000130522    0\n",
      "ENSG00000130528    0\n",
      "                  ..\n",
      "ENSG00000170458    0\n",
      "ENSG00000170456    0\n",
      "ENSG00000170454    0\n",
      "ENSG00000170448    0\n",
      "ENSG00000000003    0\n",
      "Length: 17970, dtype: int64\n",
      "xml_neoplasm_histologic_grade    0\n",
      "dtype: int64\n"
     ]
    }
   ],
   "source": [
    "#### Checking and confirming that there are no NA's in these data sets ####\n",
    "\n",
    "print(X_clr.isna().sum().sort_values(ascending=False))\n",
    "print(y_clr.isna().sum().sort_values(ascending=False))\n",
    "print(X_tpm.isna().sum().sort_values(ascending=False)) \n",
    "print(y_tpm.isna().sum().sort_values(ascending=False))"
   ]
  },
  {
   "cell_type": "code",
   "execution_count": 7,
   "id": "18d487b5-5893-4e23-a728-325f1fab9cf7",
   "metadata": {},
   "outputs": [
    {
     "data": {
      "text/plain": [
       "(554, 17970)"
      ]
     },
     "execution_count": 7,
     "metadata": {},
     "output_type": "execute_result"
    }
   ],
   "source": [
    "X_clr.shape # X_tpm data has same shape"
   ]
  },
  {
   "cell_type": "code",
   "execution_count": 8,
   "id": "ca09de9b-c18a-4fb5-9229-391a49643f7b",
   "metadata": {},
   "outputs": [
    {
     "data": {
      "text/plain": [
       "(554, 1)"
      ]
     },
     "execution_count": 8,
     "metadata": {},
     "output_type": "execute_result"
    }
   ],
   "source": [
    "y_clr.shape # y_tpm has same shape"
   ]
  },
  {
   "cell_type": "markdown",
   "id": "8edbeb44-a66f-44b6-b8a9-aeb52949643e",
   "metadata": {},
   "source": [
    "One of the assumptions of linear and logistic regression is independence between variables. A high degree of multicollinearty violates this assumption, so in order to use linear models, highly correlated variables are removed below."
   ]
  },
  {
   "cell_type": "code",
   "execution_count": 9,
   "id": "fb86bfed-72a9-4583-b1b0-063183aad147",
   "metadata": {},
   "outputs": [
    {
     "name": "stdout",
     "output_type": "stream",
     "text": [
      "CPU times: user 11min, sys: 24.7 s, total: 11min 25s\n",
      "Wall time: 11min 36s\n"
     ]
    }
   ],
   "source": [
    "%%time\n",
    "#### Removing any highly correlated features ####\n",
    "\n",
    "import numpy as np\n",
    "\n",
    "#https://chrisalbon.com/code/machine_learning/feature_selection/drop_highly_correlated_features/\n",
    "# Create correlation matrix\n",
    "corr_matrix_clr = X_clr.corr().abs()\n",
    "corr_matrix_tpm = X_tpm.corr().abs()\n",
    "\n",
    "# Select upper triangle of correlation matrix\n",
    "upper_clr = corr_matrix_clr.where(np.triu(np.ones(corr_matrix_clr.shape), k=1).astype(np.bool))\n",
    "upper_tpm = corr_matrix_tpm.where(np.triu(np.ones(corr_matrix_tpm.shape), k=1).astype(np.bool))\n",
    "\n",
    "# Find features with correlation greater than 0.95\n",
    "to_drop_clr = [column for column in upper_clr.columns if any(upper_clr[column] > 0.95)]\n",
    "to_drop_tpm = [column for column in upper_tpm.columns if any(upper_tpm[column] > 0.95)]\n",
    "\n",
    "# Drop features \n",
    "X_clr.drop(to_drop_clr, axis=1, inplace=True)\n",
    "X_tpm.drop(to_drop_tpm, axis=1, inplace=True)"
   ]
  },
  {
   "cell_type": "code",
   "execution_count": 10,
   "id": "eab5cf34-af06-496a-82bc-46a4824da301",
   "metadata": {},
   "outputs": [
    {
     "data": {
      "text/plain": [
       "(554, 17770)"
      ]
     },
     "execution_count": 10,
     "metadata": {},
     "output_type": "execute_result"
    }
   ],
   "source": [
    "X_clr.shape"
   ]
  },
  {
   "cell_type": "code",
   "execution_count": 11,
   "id": "5b17d874-9ec6-43ed-8046-781abb39fb76",
   "metadata": {},
   "outputs": [
    {
     "data": {
      "text/plain": [
       "(554, 1)"
      ]
     },
     "execution_count": 11,
     "metadata": {},
     "output_type": "execute_result"
    }
   ],
   "source": [
    "y_clr.shape"
   ]
  },
  {
   "cell_type": "code",
   "execution_count": 12,
   "id": "aadc5cb0-318d-43a5-a091-bf8ece66faeb",
   "metadata": {},
   "outputs": [],
   "source": [
    "#### Splitting Data sets: 80-20 Train-test split ####\n",
    "\n",
    "from sklearn.model_selection import train_test_split\n",
    "\n",
    "X_clr_train, X_clr_test, y_clr_train, y_clr_test = train_test_split(X_clr, y_clr, test_size=0.2,\n",
    "                                                                    random_state=2)\n",
    "\n",
    "\n",
    "X_tpm_train, X_tpm_test, y_tpm_train, y_tpm_test = train_test_split(X_tpm, y_tpm, test_size=0.2,\n",
    "                                                                   random_state=0)"
   ]
  },
  {
   "cell_type": "markdown",
   "id": "ca4f69f3-eaaa-42b1-9792-9864fd5e6ef7",
   "metadata": {},
   "source": [
    "# Linear and Logistic Regression Without Pipeline and with Default Parameters"
   ]
  },
  {
   "cell_type": "markdown",
   "id": "7bfb044e-a2ca-4fea-8c7d-71e18df59b5e",
   "metadata": {},
   "source": [
    "## Linear Regression on CLR and TPM Data"
   ]
  },
  {
   "cell_type": "code",
   "execution_count": 13,
   "id": "ffe3a25a-1064-4852-8430-c790d6b290d5",
   "metadata": {},
   "outputs": [],
   "source": [
    "from sklearn import metrics\n",
    "from sklearn.linear_model import LinearRegression\n",
    "from sklearn.model_selection import cross_validate\n",
    "from sklearn.model_selection import cross_val_score\n",
    "from sklearn.model_selection import RepeatedKFold\n",
    "\n",
    "\n",
    "#### Linear Regression on CLR-normalized data ####\n",
    "\n",
    "\n",
    "## Training the data ##\n",
    "lin_reg = LinearRegression().fit(X_clr_train, y_clr_train)\n",
    "\n",
    "## 5-fold CV ##\n",
    "rkf5 = RepeatedKFold(n_splits=5, n_repeats=5, random_state=19)\n",
    "cv_score1 = cross_val_score(lin_reg, X_clr, y_clr, cv = rkf5).mean()\n",
    "\n",
    "\n",
    "## Evaluating model accuracy ##\n",
    "score = lin_reg.score(X_clr_test, y_clr_test) # this is actually R**2, not accuracy\n",
    "\n",
    "\n",
    "#### Linear Regression on TPM-normalized data ####\n",
    "\n",
    "## Training the data ##\n",
    "lin_reg2 = LinearRegression().fit(X_tpm_train, y_tpm_train)\n",
    "\n",
    "## 5-fold CV ##\n",
    "rkf5_2 = RepeatedKFold(n_splits=5, n_repeats=5, random_state=1)\n",
    "cv_score2 = cross_val_score(lin_reg2, X_tpm, y_tpm, cv = rkf5_2).mean()   \n",
    "\n",
    "## Evaluating model accuracy ##\n",
    "score2 = lin_reg2.score(X_tpm_test, y_tpm_test)"
   ]
  },
  {
   "cell_type": "code",
   "execution_count": 14,
   "id": "209d8046-16f8-42dd-9911-e4c0f9746e98",
   "metadata": {},
   "outputs": [
    {
     "name": "stdout",
     "output_type": "stream",
     "text": [
      "+-----------------+-----------------------+-----------------------+\n",
      "|        _        | Linear Regression CLR | Linear Regression TPM |\n",
      "+-----------------+-----------------------+-----------------------+\n",
      "| 5-fold CV score |  0.46465575886583954  |  -0.5334411160998127  |\n",
      "|       R**2      |  0.34998078142903266  |  -0.5137961055100502  |\n",
      "+-----------------+-----------------------+-----------------------+\n"
     ]
    }
   ],
   "source": [
    "from prettytable import PrettyTable\n",
    "\n",
    "# Specify the Column Names while initializing the Table \n",
    "myTable = PrettyTable([\"_\", \"Linear Regression CLR\", \"Linear Regression TPM\"]) \n",
    "  \n",
    "# Add rows \n",
    "myTable.add_row(['5-fold CV score', cv_score1, cv_score2])\n",
    "myTable.add_row(['R**2', score, score2]) \n",
    "print(myTable)"
   ]
  },
  {
   "cell_type": "markdown",
   "id": "e4afcfc2-2897-4b25-a350-bdae75f06e6b",
   "metadata": {},
   "source": [
    "Running Linear Regression on the data on both the CLR and TPM normalized data yielded unsatisfactory yet unsurprising results.\n",
    "The models are evaluated using R<sup>2</sup> and using 5-fold cross validation. The 'f1_score' metric results in an error, which may be due to the values in y_clr and y_tpm being binary. The R<sup>2</sup> score using 5-fold cross validation were computed by repeating the 5-fold cross validation step 5 times and taking the average of the resulting accuracy scores. The R<sup>2</sup> scores shown in the table above indicate the performance of the linear regression model. The model performed significantly better on the CLR-normalized data than on the TPM-normalized data; however, neither are very accurate. This is expected because linear regression assumes the target variable is normally distributed, which is not the case for this data as they are binary.\n",
    "\n",
    "Logistic regression should perform better. "
   ]
  },
  {
   "cell_type": "markdown",
   "id": "c0c1548b-0d90-4d07-a2ba-3d862f5e3776",
   "metadata": {},
   "source": [
    "## Logistic Regression on CLR and TPM Data"
   ]
  },
  {
   "cell_type": "code",
   "execution_count": 15,
   "id": "290cff8d-23a2-498b-8140-4a2fc756d0c3",
   "metadata": {},
   "outputs": [],
   "source": [
    "from sklearn.linear_model import LogisticRegression\n",
    "from sklearn import metrics\n",
    "\n",
    "\n",
    "#### Logistic Regression on CLR-Normalized Data ####\n",
    "\n",
    "\n",
    "## Training the data ##\n",
    "logreg1 = LogisticRegression(random_state=0).fit(X_clr_train, y_clr_train)\n",
    "\n",
    "## Prediction ##\n",
    "y_pred1 = logreg1.predict(X_clr_test)\n",
    "\n",
    "## Model Assessment ##\n",
    "acc_score1 = metrics.accuracy_score(y_clr_test, y_pred1)\n",
    "f1_score1 = metrics.f1_score(y_clr_test, y_pred1)\n",
    "prec_score1 = metrics.precision_score(y_clr_test, y_pred1)\n",
    "\n",
    "## 5-fold Cross Validation ## \n",
    "logreg_rkf = RepeatedKFold(n_splits=5, n_repeats=5, random_state=1)\n",
    "logreg_cv = cross_val_score(logreg1, X_clr, y_clr, cv = logreg_rkf).mean()\n",
    "\n",
    "\n",
    "\n",
    "#### Logistic Regression on TPM-normalized data ####\n",
    "\n",
    "\n",
    "## Training the data ##\n",
    "logreg2 = LogisticRegression(random_state=0).fit(X_tpm_train, y_tpm_train)\n",
    "\n",
    "## Prediction ##\n",
    "y_pred2 = logreg2.predict(X_tpm_test)\n",
    "\n",
    "## Model Assessment ##\n",
    "acc_score2 = metrics.accuracy_score(y_tpm_test, y_pred2)\n",
    "f1_score2 = metrics.accuracy_score(y_tpm_test, y_pred2)\n",
    "prec_score2 = metrics.precision_score(y_tpm_test, y_pred2)\n",
    "\n",
    "## 5-fold Cross Validation ## \n",
    "logreg_rkf2 = RepeatedKFold(n_splits=5, n_repeats=5, random_state=1)\n",
    "logreg_cv2 = cross_val_score(logreg2, X_tpm, y_tpm, cv = logreg_rkf2).mean()"
   ]
  },
  {
   "cell_type": "markdown",
   "id": "d63eb211-0cc0-41e1-bb14-c3de4db4d208",
   "metadata": {},
   "source": [
    "## Logistic Regression Model Evaluation and Comparison to Linear Regression"
   ]
  },
  {
   "cell_type": "code",
   "execution_count": 16,
   "id": "64dc5a00-ea31-4e2a-a8e0-b22a8e332bef",
   "metadata": {},
   "outputs": [
    {
     "name": "stdout",
     "output_type": "stream",
     "text": [
      "+-----------------+------------------------+------------------------+----------------------+----------------------+\n",
      "|        _        | Logistic RegressionCLR | Logistic RegressionTPM | Linear RegressionCLR | Linear RegressionTPM |\n",
      "+-----------------+------------------------+------------------------+----------------------+----------------------+\n",
      "| 5-fold CV score |   0.8443996723996725   |   0.7490974610974611   | 0.46465575886583954  | -0.5334411160998127  |\n",
      "|  Accuracy score |   0.7927927927927928   |   0.7117117117117117   | 0.34998078142903266  | -0.5137961055100502  |\n",
      "|     f1 score    |   0.8270676691729324   |   0.7117117117117117   |          -           |          -           |\n",
      "| Precision score |   0.8088235294117647   |   0.7424242424242424   |          -           |          -           |\n",
      "+-----------------+------------------------+------------------------+----------------------+----------------------+\n"
     ]
    }
   ],
   "source": [
    "## Model Evaluation ##\n",
    "import numpy as np\n",
    "import seaborn as sns\n",
    "import matplotlib.pyplot as plt\n",
    "from sklearn.metrics import confusion_matrix\n",
    "\n",
    "myTable2 = PrettyTable([\"_\", \"Logistic RegressionCLR\", \"Logistic RegressionTPM\",\n",
    "                        \"Linear RegressionCLR\", \"Linear RegressionTPM\"]) \n",
    "myTable2.add_row(['5-fold CV score', logreg_cv, logreg_cv2, cv_score1, cv_score2])\n",
    "myTable2.add_row(['Accuracy score', acc_score1, acc_score2, score, score2]) \n",
    "myTable2.add_row(['f1 score', f1_score1, f1_score2, \"-\", \"-\"])\n",
    "myTable2.add_row(['Precision score', prec_score1, prec_score2, \"-\", \"-\"])\n",
    "print(myTable2)"
   ]
  },
  {
   "cell_type": "markdown",
   "id": "0186f7f1-d4a0-4fc3-b89c-b16b9d32754d",
   "metadata": {},
   "source": [
    "As expected, logistic regression performed significantly better than linear regression, likely because linear regression struggles when the target variable is binary/not normally distributed. The model still performed significantly better on the CLR dataset than on the TPM data set. Across both linear and logistic regression models, the results on the CLR dataset are consistently and significantly better than the TPM dataset. Since every subsequent model is a variation of linear or logistic regression, this observation should continue to hold. Because of this, all subsequent models will be run only on the CLR dataset. This will yield the best model and shorten total runtime. \n",
    "\n",
    "\n",
    "Next, I use GridSearchCV to improve the model by finding and selecting the optimal parameters. This should yield the best model. A benefit of using GridSearchCV is that it is an easy, built-in method of finding the best combination of parameters, so that the scientist does not have to manually test every combination, which would be very laborious. A disadvantage, however, is that GridSearchCV only operates on the parameters provided to it. So the scientist must have an understanding of the data/problem and the parameters of the model and must make decisions about which parameters to include and which not to include. If everything is included in the model, then GridSearchCV will take a very long time to run. \n",
    "\n",
    "For the purposes of this project, the parameters I test are:\n",
    "\n",
    "* 1: Scaling Method\n",
    "       - I find the best scaling method of StandardScaler(), MaxAbsScaler(), MinMaxScaler(), and Normalizer().\n",
    "* 2: C\n",
    "       - The value of C is the inverse of regularization strength. Regularization effectively shrinks the coefficient estimates towards zero, which \n",
    "         prevents learning a complex model and therefore prevents overfitting. So a smaller value C corresponds to stronger regularization.\n",
    "* 3: Penalty\n",
    "       - The Penalty parameter determines the method by which a penalty is added to the model. \"l1\" (LASSO) penalty allows coefficients to shrink to          zero, while \"l2\" (Ridge) penalty only allows coefficients to approach zero. \"elasticnet\" is a combination of \"l1\" and \"l2\". Of the options          \"none\" (no penalty), \"l1\", \"l2\" and \"elasticnet\", I find the best penalty. \n",
    "         \n",
    "* 4: Solver\n",
    "       - The solvers are various algorithms used in this optimization problem. The solvers I am testing are \"liblinear\", \"newton-cg\" and \"lbfgs\"\n",
    "       \n",
    "       \n",
    "Since Logistic regression is significantly better than linear regression for this problem, I only run GridSearchCV on logistic regression."
   ]
  },
  {
   "cell_type": "markdown",
   "id": "66594cff-b2a6-463f-8fbf-788a8508a50d",
   "metadata": {},
   "source": [
    "## Finding Optimal Parameters for Logistic Regression"
   ]
  },
  {
   "cell_type": "markdown",
   "id": "5af89218-ca8e-4c0b-99bf-287ff84e681b",
   "metadata": {},
   "source": [
    "## Finding Best Scaling method first"
   ]
  },
  {
   "cell_type": "code",
   "execution_count": 15,
   "id": "64a6d67a-fa42-4241-82c1-6906a1fdbaaa",
   "metadata": {},
   "outputs": [
    {
     "name": "stdout",
     "output_type": "stream",
     "text": [
      "Fitting 5 folds for each of 4 candidates, totalling 20 fits\n"
     ]
    },
    {
     "data": {
      "text/plain": [
       "{'scaler': MinMaxScaler()}"
      ]
     },
     "execution_count": 15,
     "metadata": {},
     "output_type": "execute_result"
    }
   ],
   "source": [
    "from sklearn.preprocessing import StandardScaler\n",
    "from sklearn.preprocessing import MaxAbsScaler\n",
    "from sklearn.preprocessing import MinMaxScaler\n",
    "from sklearn.preprocessing import Normalizer\n",
    "from sklearn.model_selection import GridSearchCV\n",
    "from sklearn.pipeline import Pipeline\n",
    "\n",
    "scaler = StandardScaler()\n",
    "log_model = LogisticRegression()\n",
    "pipe1 = Pipeline(steps=[('scaler', scaler),\n",
    "                       ('logistic', log_model)])\n",
    "\n",
    "scale_parameters =  {'scaler': [StandardScaler(), MaxAbsScaler(),\n",
    "                MinMaxScaler(), Normalizer()]\n",
    "}\n",
    "\n",
    "scaled_gs = GridSearchCV(pipe1, scale_parameters, verbose=True, cv=5).fit(X_clr_train, y_clr_train)\n",
    "scaled_log_model = scaled_gs.best_estimator_\n",
    "scaled_gs.best_params_ # MinMaxScaler() is the best scaling parameter"
   ]
  },
  {
   "cell_type": "markdown",
   "id": "93e11c4b-0e06-4788-89c0-efc6009a488b",
   "metadata": {},
   "source": [
    "## Finding Optimal 'C', 'Penalty', and 'Solver' Parameters"
   ]
  },
  {
   "cell_type": "code",
   "execution_count": 16,
   "id": "d311ec3b-46cd-4ce3-8b7f-d937f65fdc27",
   "metadata": {},
   "outputs": [
    {
     "name": "stdout",
     "output_type": "stream",
     "text": [
      "Fitting 5 folds for each of 240 candidates, totalling 1200 fits\n",
      "CPU times: user 34min 2s, sys: 4min 30s, total: 38min 33s\n",
      "Wall time: 13min 42s\n"
     ]
    },
    {
     "data": {
      "text/plain": [
       "GridSearchCV(estimator=Pipeline(steps=[('scaler', MinMaxScaler()),\n",
       "                                       ('logistic', LogisticRegression())]),\n",
       "             param_grid={'logistic__C': array([1.00000000e-04, 2.63665090e-04, 6.95192796e-04, 1.83298071e-03,\n",
       "       4.83293024e-03, 1.27427499e-02, 3.35981829e-02, 8.85866790e-02,\n",
       "       2.33572147e-01, 6.15848211e-01, 1.62377674e+00, 4.28133240e+00,\n",
       "       1.12883789e+01, 2.97635144e+01, 7.84759970e+01, 2.06913808e+02,\n",
       "       5.45559478e+02, 1.43844989e+03, 3.79269019e+03, 1.00000000e+04]),\n",
       "                         'logistic__penalty': ['l1', 'l2', 'elastinet', 'none'],\n",
       "                         'logistic__solver': ['lbfgs', 'newton-cg',\n",
       "                                              'liblinear']},\n",
       "             scoring='accuracy', verbose=True)"
      ]
     },
     "execution_count": 16,
     "metadata": {},
     "output_type": "execute_result"
    }
   ],
   "source": [
    "%%time\n",
    "C_val = np.logspace(-4, 4, 20)\n",
    "Penalty = ['l1', 'l2', 'elastinet', 'none']\n",
    "Solver = ['lbfgs', 'newton-cg', 'liblinear']\n",
    "\n",
    "param_list = dict(logistic__penalty = Penalty,\n",
    "         logistic__C = C_val,\n",
    "         logistic__solver = Solver)\n",
    "\n",
    "\n",
    "gs = GridSearchCV(scaled_log_model, param_list, verbose=True, scoring='accuracy')\n",
    "gs.fit(X_clr_train, y_clr_train)"
   ]
  },
  {
   "cell_type": "code",
   "execution_count": 17,
   "id": "9f7c5b77-69c2-46b5-bab6-74aeaa04e939",
   "metadata": {},
   "outputs": [
    {
     "name": "stdout",
     "output_type": "stream",
     "text": [
      "{'logistic__C': 0.23357214690901212, 'logistic__penalty': 'l2', 'logistic__solver': 'lbfgs'}\n",
      "\n",
      "Pipeline(steps=[('scaler', MinMaxScaler()),\n",
      "                ('logistic', LogisticRegression(C=0.23357214690901212))])\n"
     ]
    }
   ],
   "source": [
    "print(gs.best_params_)\n",
    "print()\n",
    "print(gs.best_estimator_)"
   ]
  },
  {
   "cell_type": "markdown",
   "id": "6e569cc5-aa65-48ee-8948-4c2c0d0b0718",
   "metadata": {},
   "source": [
    "## Logistic Regression using Optimal Parameters"
   ]
  },
  {
   "cell_type": "code",
   "execution_count": 18,
   "id": "f2580671-ddd0-4849-b192-1f1c8b8291da",
   "metadata": {},
   "outputs": [],
   "source": [
    "best_model = gs.best_estimator_\n",
    "best_y_pred = best_model.predict(X_clr_test)\n",
    "\n",
    "## 5-fold Cross Validation ## \n",
    "rkf_best = RepeatedKFold(n_splits=5, n_repeats=5, random_state=1)\n",
    "best_cv = cross_val_score(best_model, X_clr, y_clr, cv = rkf_best).mean()\n",
    "\n",
    "best_model_acc = metrics.accuracy_score(y_clr_test, best_y_pred)\n",
    "best_model_prec = metrics.precision_score(y_clr_test, best_y_pred)\n",
    "best_model_f1 = metrics.f1_score(y_clr_test, best_y_pred)"
   ]
  },
  {
   "cell_type": "code",
   "execution_count": 19,
   "id": "4d0d6d05-613f-4c3f-bba0-35af7bdc2c72",
   "metadata": {},
   "outputs": [
    {
     "name": "stdout",
     "output_type": "stream",
     "text": [
      "+-----------------+------------------------------+---------------------------------+\n",
      "|        _        | Best Logistic Regression CLR | Default Logistic Regression CLR |\n",
      "+-----------------+------------------------------+---------------------------------+\n",
      "| 5-fold CV score |      0.8444127764127763      |        0.8443996723996725       |\n",
      "|  Accuracy score |      0.8018018018018018      |        0.7927927927927928       |\n",
      "|     f1 score    |      0.835820895522388       |        0.8270676691729324       |\n",
      "| Precision score |      0.8115942028985508      |        0.8088235294117647       |\n",
      "+-----------------+------------------------------+---------------------------------+\n"
     ]
    }
   ],
   "source": [
    "myTable3 = PrettyTable([\"_\", \"Best Logistic Regression CLR\", \"Default Logistic Regression CLR\"]) \n",
    "myTable3.add_row(['5-fold CV score', best_cv, logreg_cv])\n",
    "myTable3.add_row(['Accuracy score', best_model_acc, acc_score1]) \n",
    "myTable3.add_row(['f1 score', best_model_f1, f1_score1])\n",
    "myTable3.add_row(['Precision score', best_model_prec, prec_score1])\n",
    "print(myTable3)"
   ]
  },
  {
   "cell_type": "markdown",
   "id": "64d5a683-fc65-4ef9-8c9c-666b5b3d11e9",
   "metadata": {},
   "source": [
    "The results of the GridSearchCV on logistic regression are that the optimal parameters are:\n",
    "\n",
    "* scaler: MinMaxScaler()\n",
    "\n",
    "* C: 0.23357214690901212\n",
    "\n",
    "* penalty: l2\n",
    "\n",
    "* solver: lbfgs\n",
    "\n",
    "The table above shows that the best logistic regression model is only slightly better than the default logistic regression. The \"l2\" penalty and \"lbfgs\" solver, which are the optimal penalty and solver, respectively, are also the default for logistic regression. The default C value is 1.0, the improvement likely came from stronger regularization, shown by the smaller C value of 0.23357214690901212. "
   ]
  },
  {
   "cell_type": "markdown",
   "id": "63ac3214-a04f-4ad9-8fa2-08165dd95b51",
   "metadata": {},
   "source": [
    "# Using Pipelines to Test Different Linear Models"
   ]
  },
  {
   "cell_type": "markdown",
   "id": "a5fff123-f324-4d71-ba4e-9925c6dc3aa3",
   "metadata": {},
   "source": [
    "## Ridge Regression Classifier using Optimal 'alpha' Parameter"
   ]
  },
  {
   "cell_type": "code",
   "execution_count": 20,
   "id": "e56f6d75-aca5-4b0a-8e34-31a361ba6c2e",
   "metadata": {},
   "outputs": [],
   "source": [
    "from sklearn.linear_model import RidgeClassifier\n",
    "\n",
    "scaler = StandardScaler()\n",
    "rc = RidgeClassifier()\n",
    "pipe_ridgeClass = Pipeline(steps=[('scale', scaler),\n",
    "                       ('estimator', rc)])\n",
    "\n",
    "alpha = np.arange(0, 1, 0.5)\n",
    "\n",
    "alpha_param = dict(estimator__alpha = alpha)\n",
    "\n",
    "cv5_ridge = RepeatedKFold(n_splits=5, n_repeats=5, random_state=1)\n",
    "ridge_gs = GridSearchCV(pipe_ridgeClass, alpha_param, cv= cv5_ridge).fit(X_clr, y_clr)\n",
    "ridge_gs.best_params_ # best alpha is alpha = 0.0\n",
    "\n",
    "best_ridgeClass = ridge_gs.best_estimator_\n",
    "best_ridgeClass = best_ridgeClass.fit(X_clr_train, y_clr_train)\n",
    "best_ridge_pred = best_ridgeClass.predict(X_clr_test)\n",
    "\n",
    "## 5-fold Cross Validation ## \n",
    "rkf_ridge = RepeatedKFold(n_splits=5, n_repeats=5, random_state=1)\n",
    "best_ridge_cv = cross_val_score(best_ridgeClass, X_clr, y_clr, cv = rkf_ridge).mean()\n",
    "\n",
    "best_ridge_acc = metrics.accuracy_score(y_clr_test, best_ridge_pred)\n",
    "best_ridge_prec = metrics.precision_score(y_clr_test, best_ridge_pred)\n",
    "best_ridge_f1 = metrics.f1_score(y_clr_test, best_ridge_pred)"
   ]
  },
  {
   "cell_type": "code",
   "execution_count": 21,
   "id": "910ae344-254a-4b6b-9808-370cb713606c",
   "metadata": {},
   "outputs": [
    {
     "name": "stdout",
     "output_type": "stream",
     "text": [
      "+-----------------+-----------------------+------------------------------+---------------------------------+\n",
      "|        _        | Best Ridge Classifier | Best Logistic Regression CLR | Default Logistic Regression CLR |\n",
      "+-----------------+-----------------------+------------------------------+---------------------------------+\n",
      "| 5-fold CV score |   0.8483701883701884  |      0.8444127764127763      |        0.8443996723996725       |\n",
      "|  Accuracy score |   0.7837837837837838  |      0.8018018018018018      |        0.7927927927927928       |\n",
      "|     f1 score    |   0.8153846153846154  |      0.835820895522388       |        0.8270676691729324       |\n",
      "| Precision score |   0.8153846153846154  |      0.8115942028985508      |        0.8088235294117647       |\n",
      "+-----------------+-----------------------+------------------------------+---------------------------------+\n"
     ]
    }
   ],
   "source": [
    "myTable4 = PrettyTable([\"_\", \"Best Ridge Classifier\", \"Best Logistic Regression CLR\", \n",
    "                        \"Default Logistic Regression CLR\"]) \n",
    "myTable4.add_row(['5-fold CV score', best_ridge_cv, best_cv, logreg_cv])\n",
    "myTable4.add_row(['Accuracy score', best_ridge_acc, best_model_acc, acc_score1]) \n",
    "myTable4.add_row(['f1 score', best_ridge_f1, best_model_f1, f1_score1])\n",
    "myTable4.add_row(['Precision score', best_ridge_prec, best_model_prec, prec_score1])\n",
    "print(myTable4)"
   ]
  },
  {
   "cell_type": "markdown",
   "id": "4b4be623-55f1-47da-9c53-af8e5e324cda",
   "metadata": {},
   "source": [
    "## LASSO Regression with Optimal 'alpha' Parameter"
   ]
  },
  {
   "cell_type": "code",
   "execution_count": 22,
   "id": "45a1c87f-fd60-4f24-98c7-6f7b86212694",
   "metadata": {},
   "outputs": [],
   "source": [
    "from sklearn.linear_model import Lasso\n",
    "\n",
    "scaler = MinMaxScaler()\n",
    "lasso = Lasso()\n",
    "pipe_lasso = Pipeline(steps=[('scale', scaler),\n",
    "                       ('estimator', lasso)])\n",
    "\n",
    "lasso_alpha = np.arange(1, 100, 10)\n",
    "\n",
    "lasso_param = dict(estimator__alpha = lasso_alpha)\n",
    "\n",
    "cv5_lasso = RepeatedKFold(n_splits=5, n_repeats=5, random_state=1)\n",
    "lasso_gs = GridSearchCV(pipe_lasso, lasso_param, cv= cv5_lasso).fit(X_clr, y_clr)\n",
    "lasso_gs.best_params_ # best alpha is alpha = 0.0\n",
    "\n",
    "best_lasso = lasso_gs.best_estimator_\n",
    "best_lasso = best_lasso.fit(X_clr_train, y_clr_train)\n",
    "best_lasso_pred = best_lasso.predict(X_clr_test)\n",
    "\n",
    "## Accuracy score ##\n",
    "best_lasso_score = best_lasso.score(X_clr_test, y_clr_test)\n",
    "\n",
    "## 5-fold Cross Validation ## \n",
    "rkf_lasso = RepeatedKFold(n_splits=5, n_repeats=5, random_state=1)\n",
    "best_lasso_cv = cross_val_score(best_lasso, X_clr, y_clr, cv = rkf_lasso).mean()"
   ]
  },
  {
   "cell_type": "code",
   "execution_count": 23,
   "id": "6935535b-6b36-4543-9c14-51c40a4cae77",
   "metadata": {},
   "outputs": [
    {
     "name": "stdout",
     "output_type": "stream",
     "text": [
      "+-----------------+--------------------+--------------------+--------------------+-------------------------+\n",
      "|        _        |     Best Ridge     |   Best Logistic    |  Default Logistic  |        Best Lasso       |\n",
      "+-----------------+--------------------+--------------------+--------------------+-------------------------+\n",
      "| 5-fold CV score | 0.8483701883701884 | 0.8444127764127763 | 0.8443996723996725 |  -0.015049738540661899  |\n",
      "|  Accuracy score | 0.7837837837837838 | 0.8018018018018018 | 0.7927927927927928 | -3.6060938279902643e-06 |\n",
      "|     f1 score    | 0.8153846153846154 | 0.835820895522388  | 0.8270676691729324 |            -            |\n",
      "| Precision score | 0.8153846153846154 | 0.8115942028985508 | 0.8088235294117647 |            -            |\n",
      "+-----------------+--------------------+--------------------+--------------------+-------------------------+\n"
     ]
    }
   ],
   "source": [
    "myTable5 = PrettyTable([\"_\", \"Best Ridge\", \"Best Logistic\", \n",
    "                        \"Default Logistic\", \"Best Lasso\"]) \n",
    "myTable5.add_row(['5-fold CV score', best_ridge_cv, best_cv, logreg_cv, best_lasso_cv])\n",
    "myTable5.add_row(['Accuracy score', best_ridge_acc, best_model_acc, acc_score1, best_lasso_score]) \n",
    "myTable5.add_row(['f1 score', best_ridge_f1, best_model_f1, f1_score1, \"-\"])\n",
    "myTable5.add_row(['Precision score', best_ridge_prec, best_model_prec, prec_score1, \"-\"])\n",
    "print(myTable5)"
   ]
  },
  {
   "cell_type": "markdown",
   "id": "36792e59-fe54-4efd-90b8-43901fb4eaaf",
   "metadata": {},
   "source": [
    "Ridge Regrerssion (classifier) and LASSO regression are also compared to the best logistic regression model. The best performing model is the logistic regression using the parameters: 'C': 0.23357214690901212, \n",
    "'penalty': l2, 'solver': lbfgs. This model outperformed Ridge classifier regression, default logistic \n",
    "regression and lasso."
   ]
  },
  {
   "cell_type": "markdown",
   "id": "9e957d43-9433-4efa-aa26-bbcfb9c0c666",
   "metadata": {},
   "source": [
    "## Comparison of Best Logistic Regression Model with Dummy Model"
   ]
  },
  {
   "cell_type": "code",
   "execution_count": 24,
   "id": "2e9e6fbf-ccc6-473b-8d88-79649cc5f6d3",
   "metadata": {},
   "outputs": [],
   "source": [
    "from sklearn.dummy import DummyClassifier\n",
    "\n",
    "\n",
    "dummy_class = DummyClassifier(strategy= 'uniform', random_state=0).fit(X_clr_train, y_clr_train)\n",
    "dummy_y_pred = dummy_class.predict(X_clr_test)\n",
    "\n",
    "## 5-fold Cross Validation ## \n",
    "rkf_dummy = RepeatedKFold(n_splits=5, n_repeats=5, random_state=1)\n",
    "best_dummy_cv = cross_val_score(dummy_class, X_clr, y_clr, cv = rkf_dummy).mean()\n",
    "\n",
    "best_dummy_acc = metrics.accuracy_score(y_clr_test, dummy_y_pred)\n",
    "best_dummy_prec = metrics.precision_score(y_clr_test, dummy_y_pred)\n",
    "best_dummy_f1 = metrics.f1_score(y_clr_test, dummy_y_pred)"
   ]
  },
  {
   "cell_type": "code",
   "execution_count": 25,
   "id": "295df272-0b9e-410d-aa85-3cc2277d325b",
   "metadata": {},
   "outputs": [
    {
     "name": "stdout",
     "output_type": "stream",
     "text": [
      "+-----------------+--------------------+--------------------+\n",
      "|        _        |   Best Logistic    |  Dummy Classifier  |\n",
      "+-----------------+--------------------+--------------------+\n",
      "| 5-fold CV score | 0.8444127764127763 | 0.5147846027846028 |\n",
      "|  Accuracy score | 0.8018018018018018 | 0.5855855855855856 |\n",
      "|     f1 score    | 0.835820895522388  | 0.634920634920635  |\n",
      "| Precision score | 0.8115942028985508 | 0.6557377049180327 |\n",
      "+-----------------+--------------------+--------------------+\n"
     ]
    },
    {
     "data": {
      "image/png": "[encoded data removed]",
      "text/plain": [
       "<Figure size 432x288 with 2 Axes>"
      ]
     },
     "metadata": {
      "needs_background": "light"
     },
     "output_type": "display_data"
    },
    {
     "data": {
      "image/png": "[encoded data removed]",
      "text/plain": [
       "<Figure size 432x288 with 2 Axes>"
      ]
     },
     "metadata": {
      "needs_background": "light"
     },
     "output_type": "display_data"
    }
   ],
   "source": [
    "myTable6 = PrettyTable([\"_\", \"Best Logistic\", \"Dummy Classifier\"]) \n",
    "myTable6.add_row(['5-fold CV score', best_cv, best_dummy_cv])\n",
    "myTable6.add_row(['Accuracy score', best_model_acc, best_dummy_acc]) \n",
    "myTable6.add_row(['f1 score', best_model_f1, best_dummy_f1])\n",
    "myTable6.add_row(['Precision score', best_model_prec, best_dummy_prec])\n",
    "print(myTable6)\n",
    "\n",
    "\n",
    "## Best Logistic Regression Model ##\n",
    "cnf_matrix = metrics.confusion_matrix(y_clr_test, best_y_pred)\n",
    "\n",
    "# Generating Confusion matrix Heatmap\n",
    "class_names=[0,1] \n",
    "fig, ax = plt.subplots()\n",
    "tick_marks = np.arange(len(class_names))\n",
    "plt.xticks(tick_marks, class_names)\n",
    "plt.yticks(tick_marks, class_names)\n",
    "sns.heatmap(pd.DataFrame(cnf_matrix), annot=True, cmap=\"YlGnBu\" ,fmt='g')\n",
    "ax.xaxis.set_label_position(\"top\")\n",
    "plt.tight_layout()\n",
    "plt.title('Best Logistic Regression: Confusion matrix', y=1.1)\n",
    "plt.ylabel('Actual label')\n",
    "plt.xlabel('Predicted label')\n",
    "\n",
    "\n",
    "## Dummy Model ##\n",
    "cnf_matrix2 = metrics.confusion_matrix(y_clr_test, dummy_y_pred)\n",
    "\n",
    "# Generating Confusion matrix Heatmap\n",
    "class_names2=[0,1] \n",
    "fig2, ax2 = plt.subplots()\n",
    "tick_marks2 = np.arange(len(class_names))\n",
    "plt.xticks(tick_marks2, class_names2)\n",
    "plt.yticks(tick_marks2, class_names2)\n",
    "sns.heatmap(pd.DataFrame(cnf_matrix2), annot=True, cmap=\"YlGnBu\" ,fmt='g')\n",
    "ax.xaxis.set_label_position(\"top\")\n",
    "plt.tight_layout()\n",
    "plt.title('Dummy Model: Confusion matrix', y=1.1)\n",
    "plt.ylabel('Actual label')\n",
    "plt.xlabel('Predicted label')\n",
    "plt.show()"
   ]
  },
  {
   "cell_type": "markdown",
   "id": "a12b9557-8893-429b-9931-f44cfa6d8bc6",
   "metadata": {},
   "source": [
    "My best logistic regression model is further evaluated by comparing it to a dummy model (random guessing), and it outperformed the dummy model by around 20%. "
   ]
  },
  {
   "cell_type": "markdown",
   "id": "31aacf92-9b5f-4af1-b742-30987e93c703",
   "metadata": {},
   "source": [
    "Now that I have my best model, I use this model to identify the genes that are most important for whether a tumor is grade II- or III+."
   ]
  },
  {
   "cell_type": "markdown",
   "id": "24693d4f-2eb6-4562-8cf1-5c00c3b5c340",
   "metadata": {},
   "source": [
    "# Assessing Feature Importance"
   ]
  },
  {
   "cell_type": "code",
   "execution_count": 26,
   "id": "128b7766-e525-4975-b3aa-401c0956138b",
   "metadata": {},
   "outputs": [],
   "source": [
    "importance = best_model[-1].coef_[0]\n",
    "feature = pd.DataFrame(importance)\n",
    "feature = feature.rename(columns={0: \"Importance\"})\n",
    "feature = feature.sort_values(by=[\"Importance\"], ascending=False) # most positive"
   ]
  },
  {
   "cell_type": "markdown",
   "id": "d6fc0e03-4add-4c6d-a01c-6977e9089740",
   "metadata": {},
   "source": [
    "## Top 5 Genes that Predict Tumor Grade \"II-\" (Class 1)"
   ]
  },
  {
   "cell_type": "code",
   "execution_count": 27,
   "id": "dfad2cba-088e-41b2-9334-af4beedaa0fc",
   "metadata": {},
   "outputs": [
    {
     "name": "stdout",
     "output_type": "stream",
     "text": [
      "+-----------------+----------+---------------------------------------------------------------------------------+\n",
      "|    ENSMBL ID    |   Gene   |                                   Description                                   |\n",
      "+-----------------+----------+---------------------------------------------------------------------------------+\n",
      "| ENSG00000064218 |  DMRT3   |                  Spinal cord circuits, neuronal differentiation                 |\n",
      "| ENSG00000164532 |  TBX20   |                               Cardiac Development                               |\n",
      "| ENSG00000177947 |   ODF3   |                                    Sperm tail                                   |\n",
      "| ENSG00000204193 |  TXNDC8  | Post-translational modifications for proteins required for acrosomal biogenesis |\n",
      "| ENSG00000241598 | KRTAP5-4 |                                        ?                                        |\n",
      "+-----------------+----------+---------------------------------------------------------------------------------+\n"
     ]
    }
   ],
   "source": [
    "top_5_pos = X_clr.iloc[:, [838, 10629, 13188, 15883, 17037]]\n",
    "# positive predicts class 1, which is Tumor grade \"II-\"\n",
    "\n",
    "myTable7 = PrettyTable([\"ENSMBL ID\", \"Gene\", 'Description']) \n",
    "myTable7.add_row(['ENSG00000064218', 'DMRT3', 'Spinal cord circuits, neuronal differentiation'])\n",
    "myTable7.add_row(['ENSG00000164532', 'TBX20', 'Cardiac Development']) \n",
    "myTable7.add_row(['ENSG00000177947', 'ODF3', 'Sperm tail'])\n",
    "myTable7.add_row(['ENSG00000204193', 'TXNDC8', 'Post-translational modifications for proteins required for acrosomal biogenesis'])\n",
    "myTable7.add_row(['ENSG00000241598', 'KRTAP5-4', '?'])\n",
    "print(myTable7)"
   ]
  },
  {
   "cell_type": "markdown",
   "id": "4f435eb6-489c-4ffa-839b-acb0289e1653",
   "metadata": {},
   "source": [
    "## Top 5 Genes that Predict Tumor Grade \"III+\" (Class 0)"
   ]
  },
  {
   "cell_type": "code",
   "execution_count": 28,
   "id": "4d452a6a-047a-4d93-b8ab-710ebfc507a6",
   "metadata": {},
   "outputs": [
    {
     "name": "stdout",
     "output_type": "stream",
     "text": [
      "+-----------------+---------+---------------------------------------------------------------------+\n",
      "|    ENSMBL ID    |   Gene  |                             Description                             |\n",
      "+-----------------+---------+---------------------------------------------------------------------+\n",
      "| ENSG00000206013 |  IFITM5 |                      Normal bone mineralization                     |\n",
      "| ENSG00000168148 |   H3-4  |            DNA repair, replication, chromosome stability            |\n",
      "| ENSG00000154165 |  GPR15  |                     Probable chemokine receptor                     |\n",
      "| ENSG00000111262 |  KCNA1  |                   Voltage-gated potassium channel                   |\n",
      "| ENSG00000256436 | TAS2R31 | Taste receptor that may play a role in the perception of bitterness |\n",
      "+-----------------+---------+---------------------------------------------------------------------+\n"
     ]
    }
   ],
   "source": [
    "top_5_neg = X_clr.iloc[:, [16184, 11432, 9166, 3694, 17352]]\n",
    "# negative predics class 0, which is Tumor grrade \"III+\"\n",
    "\n",
    "myTable8 = PrettyTable([\"ENSMBL ID\", \"Gene\", 'Description']) \n",
    "myTable8.add_row(['ENSG00000206013', 'IFITM5', 'Normal bone mineralization'])\n",
    "myTable8.add_row(['ENSG00000168148', 'H3-4', 'DNA repair, replication, chromosome stability']) \n",
    "myTable8.add_row(['ENSG00000154165', 'GPR15', 'Probable chemokine receptor'])\n",
    "myTable8.add_row(['ENSG00000111262', 'KCNA1', 'Voltage-gated potassium channel'])\n",
    "myTable8.add_row(['ENSG00000256436', 'TAS2R31', 'Taste receptor that may play a role in the perception of bitterness'])\n",
    "print(myTable8)"
   ]
  },
  {
   "cell_type": "markdown",
   "id": "68d554af-f8c7-4cdb-b352-248c68c67495",
   "metadata": {},
   "source": [
    "# PCA and Visualization"
   ]
  },
  {
   "cell_type": "code",
   "execution_count": 29,
   "id": "c17289d5-aff2-4fba-91bd-7d4251cced79",
   "metadata": {},
   "outputs": [
    {
     "data": {
      "image/png": "[encoded data removed]",
      "text/plain": [
       "<Figure size 720x720 with 2 Axes>"
      ]
     },
     "metadata": {
      "needs_background": "light"
     },
     "output_type": "display_data"
    }
   ],
   "source": [
    "from sklearn.decomposition import PCA\n",
    "\n",
    "scaler = MinMaxScaler()\n",
    "scaled_X = scaler.fit_transform(X_clr)\n",
    "pca = PCA(0.95)\n",
    "pca.fit(scaled_X)\n",
    "PCs = pca.transform(scaled_X)\n",
    "plt.figure(figsize=(10,10))\n",
    "plt.scatter(PCs[:,0], PCs[:,1], c = X_clr[\"ENSG00000064218\"], s = 20, cmap='bwr')\n",
    "plt.xlabel('PC1')\n",
    "plt.ylabel('PC2')\n",
    "plt.title(\"PCA Visualization\")\n",
    "plt.colorbar()\n",
    "plt.show()"
   ]
  },
  {
   "cell_type": "markdown",
   "id": "5ec4aa95-15c0-4634-8482-ba2479a8eeb8",
   "metadata": {},
   "source": [
    "Above are tables that show the most important genes for determining the tumor grade. Several of the genes were somewhat unexpected. Some genes are involved in neural differentiation, cardiac development, bone mineralization. These are not functions that I would have thought were related to uterine endometiral carcinoma, but they very well might be, so these genes and their relationship to this cancer type may be an exciting area of research. "
   ]
  },
  {
   "cell_type": "markdown",
   "id": "37d681ed-1763-42f9-8788-e189daa2c04f",
   "metadata": {},
   "source": [
    "# References"
   ]
  },
  {
   "cell_type": "markdown",
   "id": "4523b7e5-1996-4036-a5ce-86b98f132a93",
   "metadata": {},
   "source": [
    "1: https://www.cancerresearch.org/en-us/immunotherapy/cancer-types/uterine-endometrial-cancer\n",
    "\n",
    "2: https://bmcbioinformatics.biomedcentral.com/articles/10.1186/s12859-020-3427-8\n"
   ]
  }
 ],
 "metadata": {
  "kernelspec": {
   "display_name": "Python 3",
   "language": "python",
   "name": "python3"
  },
  "language_info": {
   "codemirror_mode": {
    "name": "ipython",
    "version": 3
   },
   "file_extension": ".py",
   "mimetype": "text/x-python",
   "name": "python",
   "nbconvert_exporter": "python",
   "pygments_lexer": "ipython3",
   "version": "3.7.10"
  }
 },
 "nbformat": 4,
 "nbformat_minor": 5
}
