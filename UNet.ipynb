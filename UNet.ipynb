{
 "cells": [
  {
   "cell_type": "code",
   "execution_count": 1,
   "id": "d3f867ef-3220-4776-acc9-6061fffa4489",
   "metadata": {},
   "outputs": [],
   "source": [
    "import numpy as np\n",
    "import os\n",
    "import PIL\n",
    "from PIL import Image\n",
    "import tensorflow as tf\n",
    "import tensorflow_datasets as tfds\n",
    "from tqdm import tqdm\n",
    "from skimage.io import imread, imshow\n",
    "from skimage.transform import resize\n",
    "import random\n",
    "import matplotlib.pyplot as plt"
   ]
  },
  {
   "cell_type": "code",
   "execution_count": 2,
   "id": "b5c1af3b-c5ce-4dfe-a2b9-6b044638f262",
   "metadata": {},
   "outputs": [
    {
     "data": {
      "text/plain": [
       "'2.7.0'"
      ]
     },
     "execution_count": 2,
     "metadata": {},
     "output_type": "execute_result"
    }
   ],
   "source": [
    "tf.__version__"
   ]
  },
  {
   "cell_type": "code",
   "execution_count": 3,
   "id": "0abf9532-91bb-4393-af33-947bf1c2abbf",
   "metadata": {},
   "outputs": [
    {
     "data": {
      "text/plain": [
       "[PhysicalDevice(name='/physical_device:CPU:0', device_type='CPU'),\n",
       " PhysicalDevice(name='/physical_device:GPU:0', device_type='GPU')]"
      ]
     },
     "execution_count": 3,
     "metadata": {},
     "output_type": "execute_result"
    }
   ],
   "source": [
    "tf.config.list_physical_devices()"
   ]
  },
  {
   "cell_type": "code",
   "execution_count": 4,
   "id": "5a7015d4-4db4-4de9-9e01-f48825c34be4",
   "metadata": {},
   "outputs": [
    {
     "name": "stdout",
     "output_type": "stream",
     "text": [
      "Num GPUs Available:  1\n"
     ]
    }
   ],
   "source": [
    "print(\"Num GPUs Available: \", len(tf.config.list_physical_devices('GPU')))"
   ]
  },
  {
   "cell_type": "markdown",
   "id": "4f25a0ea-fb96-4dd5-9577-6a2d7f95aece",
   "metadata": {},
   "source": [
    "# U-Net For Image Segmentation"
   ]
  },
  {
   "cell_type": "markdown",
   "id": "8137dcfe-bd39-423c-bbec-2b3b2592cad7",
   "metadata": {},
   "source": [
    "## Data Preprocessing"
   ]
  },
  {
   "cell_type": "code",
   "execution_count": 5,
   "id": "5c938d66-08c3-4e35-8618-d12023a1bd56",
   "metadata": {},
   "outputs": [
    {
     "name": "stdout",
     "output_type": "stream",
     "text": [
      "Resizing Training Images and Masks\n"
     ]
    },
    {
     "name": "stderr",
     "output_type": "stream",
     "text": [
      "100%|█████████████████████████████████████████| 670/670 [03:24<00:00,  3.28it/s]\n"
     ]
    },
    {
     "name": "stdout",
     "output_type": "stream",
     "text": [
      "Resizing Test Images\n"
     ]
    },
    {
     "name": "stderr",
     "output_type": "stream",
     "text": [
      "100%|███████████████████████████████████████████| 65/65 [00:01<00:00, 58.93it/s]"
     ]
    },
    {
     "name": "stdout",
     "output_type": "stream",
     "text": [
      "Done\n"
     ]
    },
    {
     "name": "stderr",
     "output_type": "stream",
     "text": [
      "\n"
     ]
    }
   ],
   "source": [
    "# input dimensions\n",
    "width = 128\n",
    "height = 128\n",
    "num_channels = 3\n",
    "\n",
    "train_path = 'stage1_train/'\n",
    "test_path = 'stage1_test/'\n",
    "\n",
    "train_ids = next(os.walk(train_path))[1]\n",
    "test_ids = next(os.walk(test_path))[1]\n",
    "\n",
    "x_train = np.zeros((len(train_ids), height, width, num_channels), dtype=np.uint8)\n",
    "y_train = np.zeros((len(train_ids), height, width, 1), dtype=bool)\n",
    "\n",
    "print('Resizing Training Images and Masks')\n",
    "for n, id_ in tqdm(enumerate(train_ids), total=len(train_ids)):\n",
    "    path = train_path + id_\n",
    "    img = imread(path + '/images/' + id_ + '.png')[:,:,:num_channels]\n",
    "    img = resize(img, (height, width), mode='constant', preserve_range=True)\n",
    "    x_train[n] = img\n",
    "    mask = np.zeros((height, width, 1), dtype=bool)\n",
    "    for mask_file in next(os.walk(path + '/masks/'))[2]:\n",
    "        mask_el = imread(path + '/masks/' + mask_file)\n",
    "        mask_el = np.expand_dims(resize(mask_el, (height, width), mode='constant',\n",
    "                                      preserve_range=True), axis=-1)\n",
    "        mask = np.maximum(mask, mask_el)\n",
    "        \n",
    "    y_train[n] = mask\n",
    "    \n",
    "    \n",
    "x_test = np.zeros((len(test_ids), height, width, num_channels), dtype=np.uint8)\n",
    "test_sizes = []\n",
    "print('Resizing Test Images')\n",
    "for n, id_ in tqdm(enumerate(test_ids), total=len(test_ids)):\n",
    "    path = test_path + id_\n",
    "    img = imread(path + '/images/' + id_ + '.png')[:,:,:num_channels]\n",
    "    test_sizes.append([img.shape[0], img.shape[1]])\n",
    "    img = resize(img, (height, width), mode='constant', preserve_range=True)\n",
    "    x_test[n] = img\n",
    "    \n",
    "print('Done')\n",
    "    \n",
    "# https://www.youtube.com/watch?v=cUHPL_dk17E&list=PLZsOBAyNTZwbR08R959iCvYT3qzhxvGOE&index=5"
   ]
  },
  {
   "cell_type": "code",
   "execution_count": 6,
   "id": "d2979ddb-dc47-47ca-811e-d525c34faab5",
   "metadata": {},
   "outputs": [
    {
     "data": {
      "image/png": "[encoded data removed]",
      "text/plain": [
       "<Figure size 432x288 with 1 Axes>"
      ]
     },
     "metadata": {
      "needs_background": "light"
     },
     "output_type": "display_data"
    },
    {
     "data": {
      "image/png": "[encoded data removed]",
      "text/plain": [
       "<Figure size 432x288 with 1 Axes>"
      ]
     },
     "metadata": {
      "needs_background": "light"
     },
     "output_type": "display_data"
    }
   ],
   "source": [
    "image_x = random.randint(0, len(train_ids)) # picking a random image\n",
    "imshow(x_train[image_x])\n",
    "plt.show()\n",
    "imshow(np.squeeze(y_train[image_x]))\n",
    "plt.show()"
   ]
  },
  {
   "cell_type": "markdown",
   "id": "a0621803-d13f-4c09-ac9b-b4948a122368",
   "metadata": {},
   "source": [
    "## Building U-Net Model"
   ]
  },
  {
   "cell_type": "code",
   "execution_count": 7,
   "id": "41cd9775-2fef-4671-887d-b0de5759dd11",
   "metadata": {},
   "outputs": [
    {
     "data": {
      "text/plain": [
       "670"
      ]
     },
     "execution_count": 7,
     "metadata": {},
     "output_type": "execute_result"
    }
   ],
   "source": [
    "len(x_train)"
   ]
  },
  {
   "cell_type": "code",
   "execution_count": 8,
   "id": "fe2ee446-9e6b-44d7-843a-a420c620ac19",
   "metadata": {},
   "outputs": [
    {
     "name": "stdout",
     "output_type": "stream",
     "text": [
      "<class 'keras.engine.keras_tensor.KerasTensor'>\n",
      "Metal device set to: Apple M1 Pro\n"
     ]
    },
    {
     "name": "stderr",
     "output_type": "stream",
     "text": [
      "2022-04-27 10:29:53.424740: I tensorflow/core/common_runtime/pluggable_device/pluggable_device_factory.cc:305] Could not identify NUMA node of platform GPU ID 0, defaulting to 0. Your kernel may not have been built with NUMA support.\n",
      "2022-04-27 10:29:53.425093: I tensorflow/core/common_runtime/pluggable_device/pluggable_device_factory.cc:271] Created TensorFlow device (/job:localhost/replica:0/task:0/device:GPU:0 with 0 MB memory) -> physical PluggableDevice (device: 0, name: METAL, pci bus id: <undefined>)\n"
     ]
    },
    {
     "name": "stdout",
     "output_type": "stream",
     "text": [
      "Model: \"model\"\n",
      "__________________________________________________________________________________________________\n",
      " Layer (type)                   Output Shape         Param #     Connected to                     \n",
      "==================================================================================================\n",
      " input_1 (InputLayer)           [(None, 128, 128, 3  0           []                               \n",
      "                                )]                                                                \n",
      "                                                                                                  \n",
      " lambda (Lambda)                (None, 128, 128, 3)  0           ['input_1[0][0]']                \n",
      "                                                                                                  \n",
      " conv2d (Conv2D)                (None, 128, 128, 16  448         ['lambda[0][0]']                 \n",
      "                                )                                                                 \n",
      "                                                                                                  \n",
      " dropout (Dropout)              (None, 128, 128, 16  0           ['conv2d[0][0]']                 \n",
      "                                )                                                                 \n",
      "                                                                                                  \n",
      " conv2d_1 (Conv2D)              (None, 128, 128, 16  2320        ['dropout[0][0]']                \n",
      "                                )                                                                 \n",
      "                                                                                                  \n",
      " max_pooling2d (MaxPooling2D)   (None, 64, 64, 16)   0           ['conv2d_1[0][0]']               \n",
      "                                                                                                  \n",
      " conv2d_2 (Conv2D)              (None, 64, 64, 32)   4640        ['max_pooling2d[0][0]']          \n",
      "                                                                                                  \n",
      " dropout_1 (Dropout)            (None, 64, 64, 32)   0           ['conv2d_2[0][0]']               \n",
      "                                                                                                  \n",
      " conv2d_3 (Conv2D)              (None, 64, 64, 32)   9248        ['dropout_1[0][0]']              \n",
      "                                                                                                  \n",
      " max_pooling2d_1 (MaxPooling2D)  (None, 32, 32, 32)  0           ['conv2d_3[0][0]']               \n",
      "                                                                                                  \n",
      " conv2d_4 (Conv2D)              (None, 32, 32, 64)   18496       ['max_pooling2d_1[0][0]']        \n",
      "                                                                                                  \n",
      " dropout_2 (Dropout)            (None, 32, 32, 64)   0           ['conv2d_4[0][0]']               \n",
      "                                                                                                  \n",
      " conv2d_5 (Conv2D)              (None, 32, 32, 64)   36928       ['dropout_2[0][0]']              \n",
      "                                                                                                  \n",
      " max_pooling2d_2 (MaxPooling2D)  (None, 16, 16, 64)  0           ['conv2d_5[0][0]']               \n",
      "                                                                                                  \n",
      " conv2d_6 (Conv2D)              (None, 16, 16, 128)  73856       ['max_pooling2d_2[0][0]']        \n",
      "                                                                                                  \n",
      " dropout_3 (Dropout)            (None, 16, 16, 128)  0           ['conv2d_6[0][0]']               \n",
      "                                                                                                  \n",
      " conv2d_7 (Conv2D)              (None, 16, 16, 128)  147584      ['dropout_3[0][0]']              \n",
      "                                                                                                  \n",
      " max_pooling2d_3 (MaxPooling2D)  (None, 8, 8, 128)   0           ['conv2d_7[0][0]']               \n",
      "                                                                                                  \n",
      " conv2d_8 (Conv2D)              (None, 8, 8, 256)    295168      ['max_pooling2d_3[0][0]']        \n",
      "                                                                                                  \n",
      " dropout_4 (Dropout)            (None, 8, 8, 256)    0           ['conv2d_8[0][0]']               \n",
      "                                                                                                  \n",
      " conv2d_9 (Conv2D)              (None, 8, 8, 256)    590080      ['dropout_4[0][0]']              \n",
      "                                                                                                  \n",
      " conv2d_transpose (Conv2DTransp  (None, 16, 16, 128)  131200     ['conv2d_9[0][0]']               \n",
      " ose)                                                                                             \n",
      "                                                                                                  \n",
      " concatenate (Concatenate)      (None, 16, 16, 256)  0           ['conv2d_transpose[0][0]',       \n",
      "                                                                  'conv2d_7[0][0]']               \n",
      "                                                                                                  \n",
      " conv2d_10 (Conv2D)             (None, 16, 16, 128)  295040      ['concatenate[0][0]']            \n",
      "                                                                                                  \n",
      " dropout_5 (Dropout)            (None, 16, 16, 128)  0           ['conv2d_10[0][0]']              \n",
      "                                                                                                  \n",
      " conv2d_11 (Conv2D)             (None, 16, 16, 128)  147584      ['dropout_5[0][0]']              \n",
      "                                                                                                  \n",
      " conv2d_transpose_1 (Conv2DTran  (None, 32, 32, 64)  32832       ['conv2d_11[0][0]']              \n",
      " spose)                                                                                           \n",
      "                                                                                                  \n",
      " concatenate_1 (Concatenate)    (None, 32, 32, 128)  0           ['conv2d_transpose_1[0][0]',     \n",
      "                                                                  'conv2d_5[0][0]']               \n",
      "                                                                                                  \n",
      " conv2d_12 (Conv2D)             (None, 32, 32, 64)   73792       ['concatenate_1[0][0]']          \n",
      "                                                                                                  \n",
      " dropout_6 (Dropout)            (None, 32, 32, 64)   0           ['conv2d_12[0][0]']              \n",
      "                                                                                                  \n",
      " conv2d_13 (Conv2D)             (None, 32, 32, 64)   36928       ['dropout_6[0][0]']              \n",
      "                                                                                                  \n",
      " conv2d_transpose_2 (Conv2DTran  (None, 64, 64, 32)  8224        ['conv2d_13[0][0]']              \n",
      " spose)                                                                                           \n",
      "                                                                                                  \n",
      " concatenate_2 (Concatenate)    (None, 64, 64, 64)   0           ['conv2d_transpose_2[0][0]',     \n",
      "                                                                  'conv2d_3[0][0]']               \n",
      "                                                                                                  \n",
      " conv2d_14 (Conv2D)             (None, 64, 64, 32)   18464       ['concatenate_2[0][0]']          \n",
      "                                                                                                  \n",
      " dropout_7 (Dropout)            (None, 64, 64, 32)   0           ['conv2d_14[0][0]']              \n",
      "                                                                                                  \n",
      " conv2d_15 (Conv2D)             (None, 64, 64, 32)   9248        ['dropout_7[0][0]']              \n",
      "                                                                                                  \n",
      " conv2d_transpose_3 (Conv2DTran  (None, 128, 128, 16  2064       ['conv2d_15[0][0]']              \n",
      " spose)                         )                                                                 \n",
      "                                                                                                  \n",
      " concatenate_3 (Concatenate)    (None, 128, 128, 32  0           ['conv2d_transpose_3[0][0]',     \n",
      "                                )                                 'conv2d_1[0][0]']               \n",
      "                                                                                                  \n",
      " conv2d_16 (Conv2D)             (None, 128, 128, 16  4624        ['concatenate_3[0][0]']          \n",
      "                                )                                                                 \n",
      "                                                                                                  \n",
      " dropout_8 (Dropout)            (None, 128, 128, 16  0           ['conv2d_16[0][0]']              \n",
      "                                )                                                                 \n",
      "                                                                                                  \n",
      " conv2d_17 (Conv2D)             (None, 128, 128, 16  2320        ['dropout_8[0][0]']              \n",
      "                                )                                                                 \n",
      "                                                                                                  \n",
      " conv2d_18 (Conv2D)             (None, 128, 128, 1)  17          ['conv2d_17[0][0]']              \n",
      "                                                                                                  \n",
      "==================================================================================================\n",
      "Total params: 1,941,105\n",
      "Trainable params: 1,941,105\n",
      "Non-trainable params: 0\n",
      "__________________________________________________________________________________________________\n"
     ]
    }
   ],
   "source": [
    "inputs = tf.keras.layers.Input((width, height, num_channels))\n",
    "print(type(inputs))\n",
    "s = tf.keras.layers.Lambda(lambda x: x / 255)(inputs) # converting input values from integers to floating point values.\n",
    "\n",
    "#### Convolutional Layers ####\n",
    "\n",
    "## Contraction Path (Down the \"U\") ##\n",
    "c1 = tf.keras.layers.Conv2D(16, (3,3),  # the \"(3,3)\" is the kernel shape\n",
    "                            activation='relu', \n",
    "                            kernel_initializer='he_normal',# the kernel_initializer is defining initial weights. #### https://www.tensorflow.org/api_docs/python/tf/keras/initializers ####                             \n",
    "                            padding='same')(s) # padding='same' means that it pads such that the output image has the same dimensions as the input image\n",
    "\n",
    "c1 = tf.keras.layers.Dropout(0.1)(c1) # dropout prevents overfitting\n",
    "c1 = tf.keras.layers.Conv2D(16, (3,3), activation='relu', kernel_initializer='he_normal',padding='same')(c1)\n",
    "p1 = tf.keras.layers.MaxPooling2D((2,2))(c1)\n",
    "                            \n",
    "                            \n",
    "c2 = tf.keras.layers.Conv2D(32, (3,3), activation='relu', kernel_initializer='he_normal', padding='same')(p1)\n",
    "c2 = tf.keras.layers.Dropout(0.1)(c2)\n",
    "c2 = tf.keras.layers.Conv2D(32, (3,3), activation='relu', kernel_initializer='he_normal', padding='same')(c2)\n",
    "p2 = tf.keras.layers.MaxPooling2D((2,2))(c2)\n",
    "                            \n",
    "\n",
    "c3 = tf.keras.layers.Conv2D(64, (3,3), activation='relu', kernel_initializer='he_normal', padding='same')(p2)\n",
    "c3 = tf.keras.layers.Dropout(0.1)(c3)\n",
    "c3 = tf.keras.layers.Conv2D(64, (3,3), activation='relu', kernel_initializer='he_normal', padding='same')(c3)\n",
    "p3 = tf.keras.layers.MaxPooling2D((2,2))(c3)\n",
    "\n",
    "                            \n",
    "c4 = tf.keras.layers.Conv2D(128, (3,3), activation='relu', kernel_initializer='he_normal', padding='same')(p3)\n",
    "c4 = tf.keras.layers.Dropout(0.2)(c4)\n",
    "c4 = tf.keras.layers.Conv2D(128, (3,3), activation='relu', kernel_initializer='he_normal', padding='same')(c4)\n",
    "p4 = tf.keras.layers.MaxPooling2D((2,2))(c4)\n",
    "                            \n",
    "                            \n",
    "c5 = tf.keras.layers.Conv2D(256, (3,3), activation='relu', kernel_initializer='he_normal', padding='same')(p4)\n",
    "c5 = tf.keras.layers.Dropout(0.3)(c5)\n",
    "c5 = tf.keras.layers.Conv2D(256, (3,3), activation='relu', kernel_initializer='he_normal', padding='same')(c5)\n",
    "\n",
    "                            \n",
    "\n",
    "## Expanding Path (Up the \"U\") ##\n",
    "u6 = tf.keras.layers.Conv2DTranspose(128, (2,2), strides=(2,2), padding='same')(c5)\n",
    "u6 = tf.keras.layers.concatenate([u6, c4])\n",
    "c6 = tf.keras.layers.Conv2D(128, (3,3), activation='relu', kernel_initializer='he_normal', padding='same')(u6)\n",
    "c6 = tf.keras.layers.Dropout(0.2)(c6)\n",
    "c6 = tf.keras.layers.Conv2D(128, (3,3), activation='relu', kernel_initializer='he_normal', padding='same')(c6)\n",
    "\n",
    "                            \n",
    "u7 = tf.keras.layers.Conv2DTranspose(64, (2,2), strides=(2,2), padding='same')(c6)\n",
    "u7 = tf.keras.layers.concatenate([u7, c3])\n",
    "c7 = tf.keras.layers.Conv2D(64, (3,3), activation='relu', kernel_initializer='he_normal', padding='same')(u7)\n",
    "c7 = tf.keras.layers.Dropout(0.2)(c7)\n",
    "c7 = tf.keras.layers.Conv2D(64, (3,3), activation='relu', kernel_initializer='he_normal', padding='same')(c7)\n",
    "                            \n",
    "                            \n",
    "u8 = tf.keras.layers.Conv2DTranspose(32, (2,2), strides=(2,2), padding='same')(c7)\n",
    "u8 = tf.keras.layers.concatenate([u8, c2])\n",
    "c8 = tf.keras.layers.Conv2D(32, (3,3), activation='relu', kernel_initializer='he_normal', padding='same')(u8)\n",
    "c8 = tf.keras.layers.Dropout(0.2)(c8)\n",
    "c8 = tf.keras.layers.Conv2D(32, (3,3), activation='relu', kernel_initializer='he_normal', padding='same')(c8)\n",
    "                            \n",
    "                            \n",
    "u9 = tf.keras.layers.Conv2DTranspose(16, (2,2), strides=(2,2), padding='same')(c8)\n",
    "u9 = tf.keras.layers.concatenate([u9, c1])\n",
    "c9 = tf.keras.layers.Conv2D(16, (3,3), activation='relu', kernel_initializer='he_normal', padding='same')(u9)\n",
    "c9 = tf.keras.layers.Dropout(0.2)(c9)\n",
    "c9 = tf.keras.layers.Conv2D(16, (3,3), activation='relu', kernel_initializer='he_normal', padding='same')(c9)\n",
    "                            \n",
    "                            \n",
    "\n",
    "outputs = tf.keras.layers.Conv2D(1, (1,1), activation='sigmoid')(c9)\n",
    "                            \n",
    "model = tf.keras.Model(inputs=[inputs], outputs=[outputs])\n",
    "model.compile(optimizer='adam', loss='binary_crossentropy', metrics=['accuracy'])\n",
    "model.summary()"
   ]
  },
  {
   "cell_type": "markdown",
   "id": "1d3645ff-cd49-4f8b-8916-b13f1598eaa1",
   "metadata": {},
   "source": [
    "## Fitting the Model"
   ]
  },
  {
   "cell_type": "code",
   "execution_count": 9,
   "id": "9ad307a0-9760-4f36-bbdd-70a6c0876981",
   "metadata": {},
   "outputs": [
    {
     "name": "stdout",
     "output_type": "stream",
     "text": [
      "Epoch 1/30\n"
     ]
    },
    {
     "name": "stderr",
     "output_type": "stream",
     "text": [
      "2022-04-27 10:29:54.060652: W tensorflow/core/platform/profile_utils/cpu_utils.cc:128] Failed to get CPU frequency: 0 Hz\n",
      "2022-04-27 10:29:54.537654: I tensorflow/core/grappler/optimizers/custom_graph_optimizer_registry.cc:112] Plugin optimizer for device_type GPU is enabled.\n"
     ]
    },
    {
     "name": "stdout",
     "output_type": "stream",
     "text": [
      "34/34 [==============================] - ETA: 0s - loss: 0.5971 - accuracy: 0.7237"
     ]
    },
    {
     "name": "stderr",
     "output_type": "stream",
     "text": [
      "2022-04-27 10:30:00.326582: I tensorflow/core/grappler/optimizers/custom_graph_optimizer_registry.cc:112] Plugin optimizer for device_type GPU is enabled.\n"
     ]
    },
    {
     "name": "stdout",
     "output_type": "stream",
     "text": [
      "34/34 [==============================] - 7s 101ms/step - loss: 0.5971 - accuracy: 0.7237 - val_loss: 0.3872 - val_accuracy: 0.7516\n",
      "Epoch 2/30\n",
      "34/34 [==============================] - 2s 71ms/step - loss: 0.3047 - accuracy: 0.8274 - val_loss: 0.2772 - val_accuracy: 0.8916\n",
      "Epoch 3/30\n",
      "34/34 [==============================] - 2s 71ms/step - loss: 0.2001 - accuracy: 0.9277 - val_loss: 0.1736 - val_accuracy: 0.9321\n",
      "Epoch 4/30\n",
      "34/34 [==============================] - 2s 70ms/step - loss: 0.1429 - accuracy: 0.9459 - val_loss: 0.1493 - val_accuracy: 0.9440\n",
      "Epoch 5/30\n",
      "34/34 [==============================] - 2s 70ms/step - loss: 0.1261 - accuracy: 0.9520 - val_loss: 0.1265 - val_accuracy: 0.9492\n",
      "Epoch 6/30\n",
      "34/34 [==============================] - 2s 69ms/step - loss: 0.1197 - accuracy: 0.9553 - val_loss: 0.1194 - val_accuracy: 0.9539\n",
      "Epoch 7/30\n",
      "34/34 [==============================] - 2s 70ms/step - loss: 0.1141 - accuracy: 0.9567 - val_loss: 0.1134 - val_accuracy: 0.9553\n",
      "Epoch 8/30\n",
      "34/34 [==============================] - 3s 76ms/step - loss: 0.1127 - accuracy: 0.9567 - val_loss: 0.1133 - val_accuracy: 0.9552\n",
      "Epoch 9/30\n",
      "34/34 [==============================] - 2s 70ms/step - loss: 0.1102 - accuracy: 0.9580 - val_loss: 0.1119 - val_accuracy: 0.9550\n",
      "Epoch 10/30\n",
      "34/34 [==============================] - 2s 69ms/step - loss: 0.1025 - accuracy: 0.9604 - val_loss: 0.1089 - val_accuracy: 0.9580\n",
      "Epoch 11/30\n",
      "34/34 [==============================] - 2s 71ms/step - loss: 0.0995 - accuracy: 0.9615 - val_loss: 0.1034 - val_accuracy: 0.9598\n",
      "Epoch 12/30\n",
      "34/34 [==============================] - 2s 69ms/step - loss: 0.0971 - accuracy: 0.9623 - val_loss: 0.0993 - val_accuracy: 0.9604\n",
      "Epoch 13/30\n",
      "34/34 [==============================] - 2s 69ms/step - loss: 0.0941 - accuracy: 0.9633 - val_loss: 0.1008 - val_accuracy: 0.9601\n",
      "Epoch 14/30\n",
      "34/34 [==============================] - 2s 69ms/step - loss: 0.0937 - accuracy: 0.9638 - val_loss: 0.0995 - val_accuracy: 0.9608\n"
     ]
    }
   ],
   "source": [
    "# Model checkpoint callback: \n",
    "# https://www.tensorflow.org/api_docs/python/tf/keras/callbacks\n",
    "checkpointer = tf.keras.callbacks.ModelCheckpoint('model for nuclei.h5', verbose=1, save_best_only=True)\n",
    "callbacks = [tf.keras.callbacks.EarlyStopping(patience=2, monitor='val_loss'),\n",
    "             tf.keras.callbacks.TensorBoard(log_dir='logs')]\n",
    "\n",
    "# https://www.tensorflow.org/api_docs/python/tf/keras/Model#fit\n",
    "with tf.device('/GPU:0'):\n",
    "    results = model.fit(x_train, \n",
    "                        y_train, \n",
    "                        validation_split=0.2,\n",
    "                        batch_size=16,\n",
    "                        epochs=30,\n",
    "                        callbacks=callbacks)"
   ]
  },
  {
   "cell_type": "code",
   "execution_count": 10,
   "id": "e5c09aad-8223-4364-9202-ba4659cf84d4",
   "metadata": {},
   "outputs": [
    {
     "name": "stdout",
     "output_type": "stream",
     "text": [
      "1/3 [=========>....................] - ETA: 0s"
     ]
    },
    {
     "name": "stderr",
     "output_type": "stream",
     "text": [
      "2022-04-27 10:30:32.036814: I tensorflow/core/grappler/optimizers/custom_graph_optimizer_registry.cc:112] Plugin optimizer for device_type GPU is enabled.\n"
     ]
    },
    {
     "name": "stdout",
     "output_type": "stream",
     "text": [
      "3/3 [==============================] - 1s 240ms/step\n",
      "3/3 [==============================] - 0s 164ms/step\n"
     ]
    }
   ],
   "source": [
    "predictions = model.predict(x_test, verbose=1)\n",
    "val_predictions = model.predict(x_train[int(x_train.shape[0]*0.9):], verbose=1)\n",
    "preds_treshold = (predictions > 0.5).astype(np.uint8)\n",
    "val_pred_threshold = (val_predictions > 0.5).astype(np.uint8)"
   ]
  },
  {
   "cell_type": "code",
   "execution_count": 11,
   "id": "6b1139b9-8efc-4026-9a33-f5376c422a9a",
   "metadata": {},
   "outputs": [
    {
     "name": "stdout",
     "output_type": "stream",
     "text": [
      "\n",
      "NOTE: Using experimental fast data loading logic. To disable, pass\n",
      "    \"--load_fast=false\" and report issues on GitHub. More details:\n",
      "    https://github.com/tensorflow/tensorboard/issues/4784\n",
      "\n",
      "TensorBoard 2.6.0 at http://localhost:8088/ (Press CTRL+C to quit)\n",
      "^C\n"
     ]
    }
   ],
   "source": [
    "!tensorboard --logdir='logs/' --host localhost --port 8088"
   ]
  },
  {
   "cell_type": "code",
   "execution_count": 12,
   "id": "d1a85d11-565f-47ed-bdb1-7e2a2d2c4451",
   "metadata": {},
   "outputs": [
    {
     "data": {
      "text/plain": [
       "Text(0.5, 1.0, 'Prediction:')"
      ]
     },
     "execution_count": 12,
     "metadata": {},
     "output_type": "execute_result"
    },
    {
     "data": {
      "image/png": "[encoded data removed]",
      "text/plain": [
       "<Figure size 432x288 with 3 Axes>"
      ]
     },
     "metadata": {
      "needs_background": "light"
     },
     "output_type": "display_data"
    }
   ],
   "source": [
    "fig, ax = plt.subplots(1,3)\n",
    "image_x = random.randint(0, len(val_pred_threshold)) # picking a random image\n",
    "\n",
    "ax[0].imshow(x_train[int(x_train.shape[0]*0.9):][image_x])\n",
    "ax[0].set_title(\"Original Image:\")\n",
    "\n",
    "ax[1].imshow(np.squeeze(y_train[int(y_train.shape[0]*0.9):][image_x]))\n",
    "ax[1].set_title(\"Ground Truth Mask:\")\n",
    "\n",
    "ax[2].imshow(np.squeeze(val_pred_threshold[image_x]))\n",
    "ax[2].set_title(\"Prediction:\")"
   ]
  },
  {
   "cell_type": "code",
   "execution_count": null,
   "id": "e3ac6c64-3dfd-4e62-b8af-b69d9e04cc84",
   "metadata": {},
   "outputs": [],
   "source": []
  }
 ],
 "metadata": {
  "kernelspec": {
   "display_name": "Python 3 (ipykernel)",
   "language": "python",
   "name": "python3"
  },
  "language_info": {
   "codemirror_mode": {
    "name": "ipython",
    "version": 3
   },
   "file_extension": ".py",
   "mimetype": "text/x-python",
   "name": "python",
   "nbconvert_exporter": "python",
   "pygments_lexer": "ipython3",
   "version": "3.9.12"
  }
 },
 "nbformat": 4,
 "nbformat_minor": 5
}
